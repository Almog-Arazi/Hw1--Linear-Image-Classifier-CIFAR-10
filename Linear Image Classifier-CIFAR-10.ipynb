{
 "cells": [
  {
   "cell_type": "markdown",
   "metadata": {
    "id": "QnJUALElET8I"
   },
   "source": [
    "# Exercise 1: Linear Image Classifier\n",
    "\n",
    "In this exercise you will implement a linear image classifier while getting familiar with `numpy` and the benefits of vectorized operations in Python. This exercise has 2 parts:\n",
    "\n",
    "1. Implementing loss functions, calculating gradients and implementing gradient descent.\n",
    "2. Training and evaluating several classifiers.\n",
    "\n",
    "## Submission guidelines:\n",
    "\n",
    "Your submission should only include this jupyter notebook named HW1_ID.ipynb.\n",
    "\n",
    "## Read the following instructions carefully:\n",
    "\n",
    "1. This jupyter notebook contains all the step by step instructions needed for this exercise.\n",
    "2. Write **efficient vectorized** code whenever instructed. \n",
    "3. You are responsible for the correctness of your code and should add as many tests as you see fit. Tests will not be graded nor checked.\n",
    "4. Do not change the functions we provided you. \n",
    "4. Write your functions in the instructed python modules only. All the logic you write is imported and used using this jupyter notebook. You are allowed to add functions as long as they are located in the python modules and are imported properly.\n",
    "5. You are allowed to use functions and methods from the [Python Standard Library](https://docs.python.org/3/library/) and [numpy](https://www.numpy.org/devdocs/reference/) only. Any other imports are forbidden.\n",
    "6. Your code must run without errors.\n",
    "7. Answers to qualitative questions should be written in **markdown** cells (with $\\LaTeX$ support).\n",
    "8. **TIP: When there is a TODO before a missing code segment (or function), you can continue without implementing it right away; you will be referred to the missing segment later in the exercise.**"
   ]
  },
  {
   "cell_type": "markdown",
   "metadata": {
    "id": "_r1L4UklET8K"
   },
   "source": [
    "Q: What files do we need to upload to moodle?\n",
    "\n",
    "A: You should fill in the missing parts in this Jupyter notebook and then submit it via moodle (without any additional files).\n",
    "\n",
    "Q: How do I make sure everything works before I submit?\n",
    "\n",
    "A: You should restart your kernel and rerun all cells. Make sure you get the desired output and that you meet exercise requirements. **This is an important step. You should include your desired outputs in the output cells to make your code easier to understand.**"
   ]
  },
  {
   "cell_type": "markdown",
   "metadata": {
    "id": "UV9XOToVGvLZ"
   },
   "source": [
    "#### Installs (if needed)"
   ]
  },
  {
   "cell_type": "code",
   "execution_count": 1439,
   "metadata": {},
   "outputs": [],
   "source": [
    "### Blank cell for pip install\n",
    "### EXAMPLE \n",
    "# %pip install numpy (in some platforms or versions you will need to use '!' instead of '%'. like this - !pip install numpy)\n",
    "\n",
    "\n",
    "### Make sure to restart the note book after the installs ###"
   ]
  },
  {
   "cell_type": "markdown",
   "metadata": {},
   "source": [
    "#### Imports"
   ]
  },
  {
   "cell_type": "code",
   "execution_count": 1440,
   "metadata": {
    "ExecuteTime": {
     "end_time": "2022-10-29T15:21:00.158255Z",
     "start_time": "2022-10-29T15:20:59.290618Z"
    },
    "id": "iLXvPpILET8K"
   },
   "outputs": [],
   "source": [
    "import os\n",
    "import numpy as np\n",
    "import matplotlib.pyplot as plt\n",
    "import pickle\n",
    "import os\n",
    "import sys\n",
    "import urllib.request\n",
    "import tarfile\n",
    "import zipfile\n",
    "from random import randrange\n",
    "from functools import partial\n",
    "import itertools\n",
    "import time\n",
    "\n",
    "\n",
    "### if any import fails with the following Error - \"ModuleNotFoundError: No module named 'Module'\", use the blank cell from above to install the package using %pip install 'Module'\n",
    "\n",
    "# specify the way plots behave in jupyter notebook\n",
    "%matplotlib inline\n",
    "plt.rcParams['figure.figsize'] = (5.0, 3.0) # set default size of plots\n",
    "plt.rcParams['image.interpolation'] = 'nearest'\n",
    "plt.rcParams['image.cmap'] = 'gray'"
   ]
  },
  {
   "cell_type": "markdown",
   "metadata": {
    "heading_collapsed": true,
    "id": "BtYsC3I7ET8L"
   },
   "source": [
    "# Data preprocessing\n"
   ]
  },
  {
   "cell_type": "markdown",
   "metadata": {
    "hidden": true,
    "id": "-WovI1B4Gxwp"
   },
   "source": [
    "## Data download and processing Helper Code"
   ]
  },
  {
   "cell_type": "code",
   "execution_count": 1441,
   "metadata": {
    "ExecuteTime": {
     "end_time": "2022-10-29T15:21:00.767100Z",
     "start_time": "2022-10-29T15:21:00.754066Z"
    },
    "code_folding": [],
    "hidden": true,
    "id": "sC6iBqvmGYsn"
   },
   "outputs": [],
   "source": [
    "def maybe_download_and_extract(url, download_dir):\n",
    "    \"\"\"\n",
    "    Download and extract the data if it doesn't already exist.\n",
    "    Assumes the url is a tar-ball file.\n",
    "    :param url:\n",
    "        Internet URL for the tar-file to download.\n",
    "        Example: \"https://www.cs.toronto.edu/~kriz/cifar-10-python.tar.gz\"\n",
    "    :param download_dir:\n",
    "        Directory where the downloaded file is saved.\n",
    "        Example: \"data/CIFAR-10/\"\n",
    "    :return:\n",
    "        Nothing.\n",
    "    \"\"\"\n",
    "\n",
    "    # Filename for saving the file downloaded from the internet.\n",
    "    # Use the filename from the URL and add it to the download_dir.\n",
    "    filename = url.split('/')[-1]\n",
    "    file_path = os.path.join(download_dir, filename)\n",
    "\n",
    "    # Check if the file already exists.\n",
    "    # If it exists then we assume it has also been extracted,\n",
    "    # otherwise we need to download and extract it now.\n",
    "    if not os.path.exists(file_path):\n",
    "        # Check if the download directory exists, otherwise create it.\n",
    "        if not os.path.exists(download_dir):\n",
    "            os.makedirs(download_dir)\n",
    "\n",
    "        # Download the file from the internet.\n",
    "        print(\"Downloading, This might take several minutes.\")\n",
    "        last_update_time = time.time()\n",
    "        file_path, _ = urllib.request.urlretrieve(url=url,\n",
    "                                                  filename=file_path)\n",
    "\n",
    "        print()\n",
    "        print(\"Download finished. Extracting files.\")\n",
    "\n",
    "        if file_path.endswith(\".zip\"):\n",
    "            # Unpack the zip-file.\n",
    "            zipfile.ZipFile(file=file_path, mode=\"r\").extractall(download_dir)\n",
    "        elif file_path.endswith((\".tar.gz\", \".tgz\")):\n",
    "            # Unpack the tar-ball.\n",
    "            tarfile.open(name=file_path, mode=\"r:gz\").extractall(download_dir)\n",
    "\n",
    "        print(\"Done.\")\n",
    "    else:\n",
    "        print(\"Data has apparently already been downloaded and unpacked.\")\n",
    "        print(\"If not, delete the dataset folder and try again.\")\n",
    "\n",
    "def load_CIFAR_batch(filename):\n",
    "    ''' load single batch of cifar '''\n",
    "    with open(filename, 'rb') as f:\n",
    "        datadict = pickle.load(f, encoding = 'latin1')\n",
    "        X = datadict['data']\n",
    "        Y = datadict['labels']\n",
    "        X = X.reshape(10000, 3, 32, 32).transpose(0, 2, 3, 1).astype(\"float\")\n",
    "        Y = np.array(Y)\n",
    "        return X, Y\n",
    "\n",
    "def load(ROOT):\n",
    "    ''' load all of cifar '''\n",
    "    xs = []\n",
    "    ys = []\n",
    "    for b in range(1, 6):\n",
    "        f = os.path.join(ROOT, 'data_batch_%d' % (b, ))\n",
    "        X, Y = load_CIFAR_batch(f)\n",
    "        xs.append(X)\n",
    "        ys.append(Y)\n",
    "    Xtr = np.concatenate(xs)\n",
    "    Ytr = np.concatenate(ys)\n",
    "    del X, Y\n",
    "    Xte, Yte = load_CIFAR_batch(os.path.join(ROOT, 'test_batch'))\n",
    "    return Xtr, Ytr, Xte, Yte"
   ]
  },
  {
   "cell_type": "markdown",
   "metadata": {
    "hidden": true,
    "id": "0qfmwr8lG3S8"
   },
   "source": [
    "## Data Download\n",
    "\n",
    "The next cell will download and extract CIFAR-10 into `datasets/cifar10/`. The CIFAR-10 dataset consists of 60,000 32x32 color images in 10 classes, with 6,000 images per class. There are 50,000 training images and 10,000 test images. The dataset is divided into five training batches and one test batch, each with 10,000 images. The test batch contains exactly 1,000 randomly-selected images from each class.\n"
   ]
  },
  {
   "cell_type": "code",
   "execution_count": 1442,
   "metadata": {
    "ExecuteTime": {
     "end_time": "2022-10-29T15:21:01.686261Z",
     "start_time": "2022-10-29T15:21:01.675796Z"
    },
    "colab": {
     "base_uri": "https://localhost:8080/"
    },
    "hidden": true,
    "id": "eBbBnxJpET8L",
    "outputId": "19b0cf20-9282-492c-cad8-8d959975a10e"
   },
   "outputs": [
    {
     "name": "stdout",
     "output_type": "stream",
     "text": [
      "Data has apparently already been downloaded and unpacked.\n",
      "If not, delete the dataset folder and try again.\n"
     ]
    }
   ],
   "source": [
    "# this cell will download the data if it does not exists\n",
    "URL = \"https://www.cs.toronto.edu/~kriz/cifar-10-python.tar.gz\"\n",
    "PATH = 'datasets/cifar10/' # the script will create required directories\n",
    "maybe_download_and_extract(URL, PATH) "
   ]
  },
  {
   "cell_type": "markdown",
   "metadata": {
    "hidden": true,
    "id": "AIyo61vC-Dmv"
   },
   "source": [
    "## Data Preprocessing Part 1"
   ]
  },
  {
   "cell_type": "markdown",
   "metadata": {
    "hidden": true,
    "id": "ersTr2wB-RAd"
   },
   "source": [
    "We have included several image processing functions. Notice the following in particular: we created an additional validation dataset you need to use for hyperparameter optimization."
   ]
  },
  {
   "cell_type": "code",
   "execution_count": 1443,
   "metadata": {
    "ExecuteTime": {
     "end_time": "2022-10-29T15:21:05.097768Z",
     "start_time": "2022-10-29T15:21:03.341893Z"
    },
    "hidden": true,
    "id": "NFUWV8LnET8M"
   },
   "outputs": [],
   "source": [
    "CIFAR10_PATH = os.path.join(PATH, 'cifar-10-batches-py')\n",
    "X_train, y_train, X_test, y_test = load(CIFAR10_PATH) # load the entire data\n",
    "\n",
    "# taking only two classes from the dataset\n",
    "X_train = X_train[np.logical_or(y_train == 0, y_train == 1)]\n",
    "y_train = y_train[np.logical_or(y_train == 0, y_train == 1)]\n",
    "X_test = X_test[np.logical_or(y_test == 0, y_test == 1)]\n",
    "y_test = y_test[np.logical_or(y_test == 0, y_test == 1)]\n",
    "\n",
    "# define a splitting for the data\n",
    "num_training = 10000\n",
    "num_validation = 1000\n",
    "num_testing = 1000\n",
    "\n",
    "mask = range(num_training)\n",
    "X_train = X_train[mask]\n",
    "y_train = y_train[mask]\n",
    "# portion from the test dataset a validation dataset for hyperparameter optimization\n",
    "mask = range(num_validation)\n",
    "X_val = X_test[mask]\n",
    "y_val = y_test[mask]\n",
    "# test dataset, without overlap with train/validation\n",
    "mask = range(num_validation, num_validation+num_testing)\n",
    "X_test = X_test[mask]\n",
    "y_test = y_test[mask]\n",
    "\n",
    "# float64\n",
    "X_train = X_train.astype(np.float64)\n",
    "X_val = X_val.astype(np.float64)\n",
    "X_test = X_test.astype(np.float64)\n",
    "\n",
    "classes = ('plane', 'car')"
   ]
  },
  {
   "cell_type": "code",
   "execution_count": 1444,
   "metadata": {
    "ExecuteTime": {
     "end_time": "2022-10-29T15:21:05.911006Z",
     "start_time": "2022-10-29T15:21:05.755837Z"
    },
    "colab": {
     "base_uri": "https://localhost:8080/",
     "height": 151
    },
    "hidden": true,
    "id": "Daycmt2x5cVS",
    "outputId": "fe9e8a0d-66eb-4fa3-9196-462a2da8c180"
   },
   "outputs": [
    {
     "name": "stdout",
     "output_type": "stream",
     "text": [
      "      car\t      car\t      car\t    plane\n"
     ]
    },
    {
     "data": {
      "image/png": "[encoded data removed]",
      "text/plain": [
       "<Figure size 500x300 with 1 Axes>"
      ]
     },
     "metadata": {},
     "output_type": "display_data"
    }
   ],
   "source": [
    "def get_batch(X, y, n=1000):\n",
    "    rand_items = np.random.randint(0, X.shape[0], size=n)\n",
    "    images = X[rand_items]\n",
    "    labels = y[rand_items]\n",
    "    return images, labels\n",
    "\n",
    "def make_random_grid(x, y, n=4, convert_to_image=True, random_flag=True):\n",
    "    if random_flag:\n",
    "        rand_items = np.random.randint(0, x.shape[0], size=n)\n",
    "    else:\n",
    "        rand_items = np.arange(0, x.shape[0])\n",
    "    images = x[rand_items]\n",
    "    labels = y[rand_items]\n",
    "    if convert_to_image:\n",
    "        grid = np.hstack(np.array([np.asarray((vec_2_img(i) + mean_image), dtype=np.int64) for i in images]))\n",
    "    else:\n",
    "        grid = np.hstack(np.array([np.asarray(i, dtype=np.int64) for i in images]))\n",
    "    print('\\t'.join('%9s' % classes[labels[j]] for j in range(n)))\n",
    "    return grid\n",
    "\n",
    "def vec_2_img(x):\n",
    "    x = np.reshape(x[:-1], (32, 32, 3))\n",
    "    return x\n",
    "\n",
    "X_batch, y_batch = get_batch(X_test, y_test, 100)\n",
    "plt.imshow(make_random_grid(X_batch, y_batch, n=4, convert_to_image=False));"
   ]
  },
  {
   "cell_type": "markdown",
   "metadata": {
    "hidden": true,
    "id": "RhismcUO9-xk"
   },
   "source": [
    "## Data Preprocessing Part 2\n",
    "\n",
    "We have included several image processing functions. Notice the following in particular: We subtracted the mean from all the images in order to ignore illumination conditions while keeping the content of the image. Next, we flattened the images from a tensor of shape (32x32x3) to a vector with 3072 features (pixel values) so we would be able to use a simple matrix multiplication. Finally, we concatenated each image vector with an additional feature to account for the bias. This is known as the bias trick. \n",
    "\n",
    "Make sure you understand this image processing pipeline before diving into the rest of the code."
   ]
  },
  {
   "cell_type": "code",
   "execution_count": 1445,
   "metadata": {
    "ExecuteTime": {
     "end_time": "2022-10-29T15:21:06.836277Z",
     "start_time": "2022-10-29T15:21:06.555473Z"
    },
    "colab": {
     "base_uri": "https://localhost:8080/"
    },
    "hidden": true,
    "id": "C9YCYi5KZhXD",
    "outputId": "d0d032ee-5e2d-498f-b907-3ecc1fd895ef"
   },
   "outputs": [
    {
     "name": "stdout",
     "output_type": "stream",
     "text": [
      "Shape of Training Set: (10000, 3073)\n",
      "Shape of Validation Set: (1000, 3073)\n",
      "Shape of Test Set: (1000, 3073)\n"
     ]
    }
   ],
   "source": [
    "# Final data preprocessing\n",
    "# subtract the mean from all the images in the batch\n",
    "mean_image = np.mean(X_train, axis=0)\n",
    "X_train -= mean_image\n",
    "X_val -= mean_image\n",
    "X_test -= mean_image\n",
    "\n",
    "# flatten all the images in the batch (make sure you understand why this is needed)\n",
    "X_train = np.reshape(X_train, newshape=(X_train.shape[0], -1))\n",
    "X_val = np.reshape(X_val, newshape=(X_val.shape[0], -1)) \n",
    "X_test = np.reshape(X_test, newshape=(X_test.shape[0], -1)) \n",
    "\n",
    "# add a bias term to all images in the batch\n",
    "X_train = np.hstack([X_train, np.ones((X_train.shape[0], 1))]) \n",
    "X_val = np.hstack([X_val, np.ones((X_val.shape[0], 1))]) \n",
    "X_test = np.hstack([X_test, np.ones((X_test.shape[0], 1))]) \n",
    "\n",
    "print(f\"Shape of Training Set: {X_train.shape}\")\n",
    "print(f\"Shape of Validation Set: {X_val.shape}\")\n",
    "print(f\"Shape of Test Set: {X_test.shape}\")"
   ]
  },
  {
   "cell_type": "markdown",
   "metadata": {
    "id": "1BX0bVW0ET8N"
   },
   "source": [
    "# Linear classifier: mapping images to scores\n",
    "\n",
    "During this exercise, we will maintain a python class with basic functionality (such as training the model). the linear classifiers we will build (perceptron, logistic regression) will inherit some functionality from that class and will change several functions (such as the loss function, for example). Read the code in the next cell and make sure you understand it. You might also find this [short classes in python tutorial](https://www.hackerearth.com/practice/python/object-oriented-programming/classes-and-objects-i/tutorial/) useful.\n"
   ]
  },
  {
   "cell_type": "code",
   "execution_count": null,
   "metadata": {
    "ExecuteTime": {
     "end_time": "2022-10-29T15:21:15.523094Z",
     "start_time": "2022-10-29T15:21:15.502785Z"
    },
    "id": "FXAVk7l6LVty"
   },
   "outputs": [],
   "source": [
    "class LinearClassifier(object):\n",
    "    def __init__(self, X, y):\n",
    "        \"\"\"\n",
    "        Class constructor. Use this method to initiate the parameters of\n",
    "        your model (W)\n",
    "        *** Subclasses will override this. ***\n",
    "\n",
    "        Inputs:\n",
    "        - X: array of data - a 2D array of size (num_instances=N, num_features)\n",
    "        - y: 1-dimensional array of length N with binary labels\n",
    "\n",
    "        This function has no return value\n",
    "\n",
    "        \"\"\"\n",
    "\n",
    "    def predict(self, X):\n",
    "        \"\"\"\n",
    "        Use the weight of the classifier to predict a label. \n",
    "        *** Subclasses will override this. ***\n",
    "\n",
    "        Input: 2D array of size (num_instances, num_features).\n",
    "        Output: 1D array of class predictions (num_instances, 1). \n",
    "        \"\"\"\n",
    "        pass\n",
    "\n",
    "    def calc_accuracy(self, X, y):\n",
    "        \"\"\"\n",
    "        Calculate the accuracy on a dataset as the percentage of instances \n",
    "        that are classified correctly. \n",
    "\n",
    "        Inputs:\n",
    "        - W: array of weights\n",
    "        - X: array of data\n",
    "        - y: 1-dimensional array of length N with binary labels\n",
    "        Returns:\n",
    "        - accuracy as a single float\n",
    "        \"\"\"\n",
    "\n",
    "        accuracy = 0.0\n",
    "        ###########################################################################\n",
    "        # TODO: Implement this method.                                            #\n",
    "        ###########################################################################\n",
    "        #                          START OF YOUR CODE                             #\n",
    "        ###########################################################################   \n",
    "         \n",
    "        # Get predictions    \n",
    "        y_pred = self.predict(X)  \n",
    "        # Calculate fraction of correct predictions\n",
    "        accuracy = np.mean(y_pred == y)*100.0 \n",
    "\n",
    "        ###########################################################################\n",
    "        #                           END OF YOUR CODE                              #\n",
    "        ###########################################################################\n",
    "\n",
    "        return accuracy\n",
    "\n",
    "\n",
    "    def train(self, X, y, learning_rate=1e-3, num_iters=100, batch_size=200, verbose=False):\n",
    "        #########################################################################\n",
    "        # TODO:                                                                 #\n",
    "        # Sample batch_size elements from the training data and their           #\n",
    "        # corresponding labels to use in every iteration.                       #\n",
    "        # Store the data in X_batch and their corresponding labels in           #\n",
    "        # y_batch                                                               #\n",
    "        #                                                                       #\n",
    "        # Hint: Use np.random.choice to generate indices. Sampling with         #\n",
    "        # replacement is faster than sampling without replacement.              #\n",
    "        #                                                                       #\n",
    "        # Next, calculate the loss and gradient and update the weights using    #\n",
    "        # the learning rate. Use the loss_history array to save the loss on     #\n",
    "        # iteration to visualize the loss.                                      #\n",
    "        #########################################################################\n",
    "        num_instances = X.shape[0]\n",
    "        loss_history = []\n",
    "        loss = 0.0\n",
    "        for i in range(num_iters):\n",
    "            X_batch = None\n",
    "            y_batch = None\n",
    "            ###########################################################################\n",
    "            # Create X_batch and y_batch. Call the loss method to get the loss value  # \n",
    "            # and grad (the loss function is being override, see the loss             #\n",
    "            # function return values).                                                #\n",
    "            # Finally, append each of the loss values created in each iteration       #\n",
    "            # to loss_history.                                                        #\n",
    "            ###########################################################################\n",
    "            #                          START OF YOUR CODE                             #\n",
    "            ###########################################################################\n",
    "\n",
    "            # Sample random indices with replacement\n",
    "            batch_indices = np.random.choice(num_instances, batch_size, replace=True)\n",
    "            \n",
    "            # Get batch data and labels\n",
    "            X_batch = X[batch_indices]\n",
    "            y_batch = y[batch_indices] \n",
    "            \n",
    "            # Calculate loss and gradient\n",
    "            loss, grad = self.loss(X_batch, y_batch)\n",
    "            \n",
    "            # Store loss value\n",
    "            loss_history.append(loss)\n",
    "            \n",
    "            ###########################################################################\n",
    "            #                           END OF YOUR CODE                              #\n",
    "            ###########################################################################\n",
    "            # TODO:                                                                   #\n",
    "            # Perform parameter update                                                #\n",
    "            # Update the weights using the gradient and the learning rate.            #\n",
    "            ###########################################################################\n",
    "            #                          START OF YOUR CODE                             #                                                         \n",
    "            ###########################################################################\n",
    "             \n",
    "            # Update weights with gradient descent\n",
    "            self.W -= learning_rate * grad\n",
    "            \n",
    "            ###########################################################################\n",
    "            #                       END OF YOUR CODE                                  #\n",
    "            ###########################################################################\n",
    "\n",
    "            if verbose and i % 100 == 0:\n",
    "                print ('iteration %d / %d: loss %f' % (i, num_iters, loss))\n",
    "\n",
    "        return loss_history\n",
    "\n",
    "\n",
    "    def loss(self, X, y):\n",
    "        \"\"\"\n",
    "        Compute the loss function and its derivative. \n",
    "        Subclasses will override this.\n",
    "        Inputs:\n",
    "        - X_batch: A numpy array of shape (N, D) containing a minibatch of N\n",
    "          data points; each point has dimension D.\n",
    "        - y_batch: A numpy array of shape (N,) containing labels for the minibatch.\n",
    "        Returns: A tuple containing:\n",
    "        - loss as a single float\n",
    "        - gradient with respect to self.W; an array of the same shape as W\n",
    "        \"\"\"\n",
    "        pass"
   ]
  },
  {
   "cell_type": "markdown",
   "metadata": {
    "id": "p9WqAhlmLMGU"
   },
   "source": [
    "## Linear perceptron\n",
    "Our first linear classifier will include a linear function that maps images to score/scores:\n",
    "\n",
    "$$\n",
    "f(x_i; W, b) = W\\cdot x_i + b\n",
    "$$\n",
    "\n",
    "In the multiclass case, W will be a matrix that maps the input into scores (score for each class) and the final prediction will be the class with the highest score.\n",
    "The binary case is a special case where you can choose to implement W as a 2 dim matrix or as a vector. The first option treats the binary problem as a multiclass problem with 2 classes, therefore, the prediction will be the class with the highest score. In case you choose to implement W as a vector (which map the input to a single score), the final prediction is done by:\n",
    "\n",
    "\n",
    "if w·x+b > 0 classify the target as 1, else classify the target as 0.\n",
    "\n",
    "**Important Note** - In this exercise we focus on the binary case, and you should implement W as a vector.\n",
    "\n",
    "Your goal is to **learn** the parameters $W$ and $b$ to best classify the images according to the provided labels.\n",
    "\n",
    "Read the next code cell. The constructor of the `LinearPerceptron` class takes as input the dataset and labels in order to create appropriate parameters. Notice we are using the bias trick and only use `w` for convenience. You may initialize `w` randomly ([0,1] or [-1,1]).\n",
    "\n",
    "Since we already have a (random) model, we can start predicting classes on images. Complete the method `predict` in the `LinearPerceptron` class. **(5 Points)**"
   ]
  },
  {
   "cell_type": "code",
   "execution_count": 1447,
   "metadata": {
    "ExecuteTime": {
     "end_time": "2022-10-29T15:21:38.587623Z",
     "start_time": "2022-10-29T15:21:38.576532Z"
    },
    "id": "cfLTGvYILcJw"
   },
   "outputs": [],
   "source": [
    "class LinearPerceptron(LinearClassifier):\n",
    "    # Classifier that uses Perceptron loss\n",
    "\n",
    "    def __init__(self, X, y):\n",
    "        ###########################################################################\n",
    "        # Initiate the parameters of your model.                                  #\n",
    "        # You can assume y takes values 0...K-1 where K is number of classes      #\n",
    "        ###########################################################################\n",
    "        #                          START OF YOUR CODE                             # \n",
    "        ###########################################################################\n",
    "\n",
    "       # X.shape[1] gives us number of features (including bias)\n",
    "       self.W = np.random.randn(3073, 1) * 0.0001\n",
    "       # Small init (0.0001) prevents saturation, ensures stability, improves gradients, smooths training, and starts predictions near boundary\n",
    "        \n",
    "        ###########################################################################\n",
    "        #                           END OF YOUR CODE                              #\n",
    "        ###########################################################################\n",
    "\n",
    "\n",
    "    def predict(self, X):\n",
    "        y_pred = None\n",
    "        ###########################################################################\n",
    "        # Implement this method.                                                  #\n",
    "        ###########################################################################\n",
    "        #                          START OF YOUR CODE                             # \n",
    "        ###########################################################################\n",
    "\n",
    "        # Calculate scores through matrix multiplication\n",
    "        scores = np.dot(X, self.W)\n",
    "        \n",
    "        # Classify based on threshold: if score > 0 then 1, else 0\n",
    "        y_pred = np.where(scores > 0, 1, 0)\n",
    "        \n",
    "        # Flatten to 1D array\n",
    "        y_pred = y_pred.flatten()\n",
    "\n",
    "        ###########################################################################\n",
    "        #                           END OF YOUR CODE                              #\n",
    "        ###########################################################################\n",
    "        return y_pred\n",
    "\n",
    "\n",
    "    def loss(self, X_batch, y_batch):\n",
    "        # perceptron_loss_vectorized will be implemented later\n",
    "        return perceptron_loss_vectorized(self.W, X_batch, y_batch)"
   ]
  },
  {
   "cell_type": "code",
   "execution_count": 1448,
   "metadata": {
    "ExecuteTime": {
     "end_time": "2022-10-29T15:21:40.039042Z",
     "start_time": "2022-10-29T15:21:39.994118Z"
    },
    "id": "2cb3cgLeET8N"
   },
   "outputs": [],
   "source": [
    "classifier = LinearPerceptron(X_train, y_train)\n",
    "y_pred = classifier.predict(X_test)"
   ]
  },
  {
   "cell_type": "code",
   "execution_count": 1449,
   "metadata": {
    "ExecuteTime": {
     "end_time": "2022-10-29T15:21:41.067042Z",
     "start_time": "2022-10-29T15:21:40.894184Z"
    },
    "colab": {
     "base_uri": "https://localhost:8080/",
     "height": 151
    },
    "id": "w2Cv7adkET8N",
    "outputId": "752d16c3-3e78-4b87-e410-62be8eaf5035"
   },
   "outputs": [
    {
     "name": "stdout",
     "output_type": "stream",
     "text": [
      "      car\t    plane\t      car\t      car\n"
     ]
    },
    {
     "data": {
      "image/png": "[encoded data removed]",
      "text/plain": [
       "<Figure size 500x300 with 1 Axes>"
      ]
     },
     "metadata": {},
     "output_type": "display_data"
    }
   ],
   "source": [
    "X_batch, y_batch = get_batch(X_train, y_train, 4)\n",
    "plt.imshow(make_random_grid(X_batch, y_batch, convert_to_image=True))\n",
    "plt.show()"
   ]
  },
  {
   "cell_type": "code",
   "execution_count": 1450,
   "metadata": {
    "ExecuteTime": {
     "end_time": "2022-10-29T15:21:42.911853Z",
     "start_time": "2022-10-29T15:21:42.897375Z"
    },
    "colab": {
     "base_uri": "https://localhost:8080/"
    },
    "id": "BKUh3OFFET8N",
    "outputId": "2a295c68-b089-4848-e533-966c764324cc"
   },
   "outputs": [
    {
     "name": "stdout",
     "output_type": "stream",
     "text": [
      "    plane       car       car     plane\n"
     ]
    }
   ],
   "source": [
    "# predictions\n",
    "print(' '.join('%9s' % classes[y_pred[j]] for j in range(4)))"
   ]
  },
  {
   "cell_type": "markdown",
   "metadata": {
    "id": "N-1RXh-lET8O"
   },
   "source": [
    "## Evaluation \n",
    "\n",
    "Complete the class method `calc_accuracy`. **(5 Points)**"
   ]
  },
  {
   "cell_type": "code",
   "execution_count": 1451,
   "metadata": {
    "ExecuteTime": {
     "end_time": "2022-10-29T15:23:38.099891Z",
     "start_time": "2022-10-29T15:23:38.029739Z"
    },
    "colab": {
     "base_uri": "https://localhost:8080/"
    },
    "id": "IiSJ5-wvET8O",
    "outputId": "2fffb0c5-551f-4ae5-e0c4-3082d1a86338"
   },
   "outputs": [
    {
     "name": "stdout",
     "output_type": "stream",
     "text": [
      "model accuracy:  58.989999999999995\n"
     ]
    }
   ],
   "source": [
    "print(\"model accuracy: \", classifier.calc_accuracy(X_train, y_train))"
   ]
  },
  {
   "cell_type": "markdown",
   "metadata": {
    "id": "fAFp3MOYET8O"
   },
   "source": [
    "**Explain why the accuracy on the training dataset is around 50% (remember, the model is not trained yet). **(5 Points)**** \n",
    "\n",
    "Answer: At that moment, there is no learning, so it is a random probability between two classes. It's like flipping a coin , the probability is 50-50."
   ]
  },
  {
   "cell_type": "markdown",
   "metadata": {
    "id": "kuFKR-UKET8O"
   },
   "source": [
    "## Perceptron loss\n",
    "\n",
    "Your code for this section will all be written in the next cell. In this section, we write and test code outside the classes for convenience. Notice the loss method for each class is just a call for the loss function written in the next cell. Once you are finished with implementation, everything should work.\n",
    "\n",
    "First, complete the function `perceptron_loss_naive`. This function takes as input the weights, data, labels and outputs the calculated loss as a single number and the gradients with respect to W.  **(15 points)**"
   ]
  },
  {
   "cell_type": "code",
   "execution_count": 1452,
   "metadata": {
    "ExecuteTime": {
     "end_time": "2022-10-29T15:23:57.192000Z",
     "start_time": "2022-10-29T15:23:57.177408Z"
    },
    "id": "McEGmknNYFXC"
   },
   "outputs": [],
   "source": [
    "def perceptron_loss_naive(W, X, y):\n",
    "    \"\"\"\n",
    "    Structured perceptron loss function, naive implementation (with loops)\n",
    "    Inputs:\n",
    "    - W: array of weights\n",
    "    - X: array of data\n",
    "    - y: 1-dimensional array of length N with labels 0...K-1, for K classes\n",
    "    Returns:\n",
    "    a tuple of:\n",
    "    - loss as single float\n",
    "    - gradient with respect to weights W; an array of same shape as W\n",
    "    \"\"\"\n",
    "    loss = 0.0\n",
    "    dW = np.zeros(W.shape) # initialize the gradient as zero\n",
    "    #############################################################################\n",
    "    # Compute the perceptron loss as learned in class. Start by iterating over  #\n",
    "    # over all instances and calculate the score and true score for each.       #\n",
    "    # Now, for each class determine if the prediction is correct and update the #\n",
    "    # loss over all mistakes.                                                   #\n",
    "    # Compute the gradient of the loss function and store it as dW.             #\n",
    "    # Rather that first computing the loss and then computing the derivative,   #\n",
    "    # it may be simpler to compute the derivative at the same time that the     #\n",
    "    # loss is being computed.                                                   #\n",
    "    #############################################################################\n",
    "    \n",
    "    num_samples = X.shape[0]\n",
    "    \n",
    "    for i in range(num_samples):\n",
    "        # Calculate score for current example\n",
    "        score = X[i].dot(W)\n",
    "        \n",
    "        # If classification is wrong (positive loss)\n",
    "        if (y[i] == 0 and score > 0) or (y[i] == 1 and score <= 0):\n",
    "            # Update loss\n",
    "            loss += abs(score)\n",
    "            \n",
    "            # Update gradient\n",
    "            if y[i] == 0:\n",
    "                dW += X[i].reshape(W.shape)\n",
    "            else:\n",
    "                dW -= X[i].reshape(W.shape)\n",
    "    \n",
    "    # Normalize by number of samples \n",
    "    loss /= num_samples\n",
    "    dW /= num_samples\n",
    "    \n",
    "    \n",
    "    #############################################################################\n",
    "    #                             END OF YOUR CODE                              #\n",
    "    #############################################################################\n",
    "    return loss, dW"
   ]
  },
  {
   "cell_type": "code",
   "execution_count": 1453,
   "metadata": {
    "ExecuteTime": {
     "end_time": "2022-10-29T15:23:58.297179Z",
     "start_time": "2022-10-29T15:23:58.278906Z"
    },
    "id": "tGcQrlGJET8O"
   },
   "outputs": [],
   "source": [
    "W = np.random.randn(3073, 1) * 0.0001"
   ]
  },
  {
   "cell_type": "code",
   "execution_count": 1454,
   "metadata": {
    "ExecuteTime": {
     "end_time": "2022-10-29T15:23:59.483591Z",
     "start_time": "2022-10-29T15:23:59.450741Z"
    },
    "colab": {
     "base_uri": "https://localhost:8080/"
    },
    "id": "UKmH67DEET8O",
    "outputId": "fe871e58-b641-40d3-accd-7e1cd4d0dc1b"
   },
   "outputs": [
    {
     "name": "stdout",
     "output_type": "stream",
     "text": [
      "loss: 0.089659\n",
      "CPU times: total: 93.8 ms\n",
      "Wall time: 12 ms\n"
     ]
    },
    {
     "name": "stderr",
     "output_type": "stream",
     "text": [
      "<timed exec>:2: DeprecationWarning: Conversion of an array with ndim > 0 to a scalar is deprecated, and will error in future. Ensure you extract a single element from your array before performing this operation. (Deprecated NumPy 1.25.)\n"
     ]
    }
   ],
   "source": [
    "%%time\n",
    "loss_naive, _ = perceptron_loss_naive(W, X_val, y_val)\n",
    "print ('loss: %f' % (loss_naive))"
   ]
  },
  {
   "cell_type": "markdown",
   "metadata": {
    "id": "Z-Hh-R7bET8P"
   },
   "source": [
    "Once your code works, complete the function `perceptron_loss_vectorized` and compare the results of the two functions using the cell below. **(15 points)**"
   ]
  },
  {
   "cell_type": "code",
   "execution_count": 1455,
   "metadata": {
    "ExecuteTime": {
     "end_time": "2022-10-29T15:24:11.592697Z",
     "start_time": "2022-10-29T15:24:11.576004Z"
    },
    "id": "w1HLNSCWYIRK"
   },
   "outputs": [],
   "source": [
    "def perceptron_loss_vectorized(W, X, y):\n",
    "    \"\"\"\n",
    "    Vectorized version of perceptron_loss_naive. instead of loops, should use \n",
    "    numpy vectorization.\n",
    "\n",
    "    Inputs and outputs are the same as perceptron_loss_naive.\n",
    "    \"\"\"\n",
    "    loss = 0.0\n",
    "    dW = np.zeros(W.shape) # initialize the gradient as zero\n",
    "    #############################################################################\n",
    "    # Implement a vectorized version of the perceptron loss, storing the       #\n",
    "    # result in loss and the gradient in dW                                     #\n",
    "    #############################################################################\n",
    " \n",
    "    num_samples = X.shape[0]\n",
    "    \n",
    "    # Calculate scores for all examples at once\n",
    "    scores = np.dot(X, W).flatten()  # Flatten to make 1D array\n",
    "    \n",
    "    # Calculate mistakes\n",
    "    mistakes_zero = np.where((y == 0) & (scores > 0))[0]  # Get indices where y=0 and score>0\n",
    "    mistakes_one = np.where((y == 1) & (scores <= 0))[0]  # Get indices where y=1 and score<=0\n",
    "    \n",
    "    # Calculate total loss\n",
    "    loss = np.sum(np.abs(scores[mistakes_zero])) + np.sum(np.abs(scores[mistakes_one]))\n",
    "    \n",
    "    # Calculate gradient\n",
    "    if len(mistakes_zero) > 0:\n",
    "        dW += np.sum(X[mistakes_zero], axis=0).reshape(-1, 1)\n",
    "    if len(mistakes_one) > 0:\n",
    "        dW -= np.sum(X[mistakes_one], axis=0).reshape(-1, 1)\n",
    "    \n",
    "    # Normalize\n",
    "    loss /= num_samples\n",
    "    dW /= num_samples\n",
    "    \n",
    "    #############################################################################\n",
    "    #                             END OF YOUR CODE                              #\n",
    "    #############################################################################\n",
    "    return loss, dW"
   ]
  },
  {
   "cell_type": "code",
   "execution_count": 1456,
   "metadata": {
    "ExecuteTime": {
     "end_time": "2022-10-29T15:24:12.996442Z",
     "start_time": "2022-10-29T15:24:12.949777Z"
    },
    "colab": {
     "base_uri": "https://localhost:8080/"
    },
    "id": "_puMMu8vET8P",
    "outputId": "910a25b9-0067-4c02-fb5d-5b11137458ec",
    "scrolled": true
   },
   "outputs": [
    {
     "name": "stdout",
     "output_type": "stream",
     "text": [
      "loss: 0.089659\n",
      "CPU times: total: 0 ns\n",
      "Wall time: 4.99 ms\n"
     ]
    }
   ],
   "source": [
    "%%time\n",
    "loss_vectorized, _ = perceptron_loss_vectorized(W, X_val, y_val)\n",
    "print ('loss: %f' % (loss_vectorized))"
   ]
  },
  {
   "cell_type": "markdown",
   "metadata": {
    "id": "E6oNHXGHET8P"
   },
   "source": [
    "You might not see big changes in time due to other computing factors. In big enough datasets it would be crucial to use the vectorized version.\n",
    "\n",
    "We have obtained an efficient function for loss and gradient calculation and we can now train our network. Complete the function `train` in the `LinearClassifier` class. (**15 points**)"
   ]
  },
  {
   "cell_type": "code",
   "execution_count": 1457,
   "metadata": {
    "ExecuteTime": {
     "end_time": "2022-10-29T15:24:38.956156Z",
     "start_time": "2022-10-29T15:24:31.984850Z"
    },
    "colab": {
     "base_uri": "https://localhost:8080/"
    },
    "id": "_QtvCxghET8P",
    "outputId": "1aaeba56-864b-442f-ef6c-a3e0e9fe7c08"
   },
   "outputs": [
    {
     "name": "stdout",
     "output_type": "stream",
     "text": [
      "iteration 0 / 1500: loss 0.146069\n"
     ]
    },
    {
     "name": "stdout",
     "output_type": "stream",
     "text": [
      "iteration 100 / 1500: loss 0.034633\n",
      "iteration 200 / 1500: loss 0.023280\n",
      "iteration 300 / 1500: loss 0.017567\n",
      "iteration 400 / 1500: loss 0.013756\n",
      "iteration 500 / 1500: loss 0.010735\n",
      "iteration 600 / 1500: loss 0.022932\n",
      "iteration 700 / 1500: loss 0.018796\n",
      "iteration 800 / 1500: loss 0.014397\n",
      "iteration 900 / 1500: loss 0.011838\n",
      "iteration 1000 / 1500: loss 0.014994\n",
      "iteration 1100 / 1500: loss 0.007632\n",
      "iteration 1200 / 1500: loss 0.013359\n",
      "iteration 1300 / 1500: loss 0.010317\n",
      "iteration 1400 / 1500: loss 0.012871\n",
      "CPU times: total: 21.7 s\n",
      "Wall time: 3.67 s\n"
     ]
    }
   ],
   "source": [
    "%%time\n",
    "perceptron = LinearPerceptron(X_train, y_train)\n",
    "loss_history = perceptron.train(X_train, y_train, learning_rate=1e-7, \n",
    "                                num_iters=1500, verbose=True)"
   ]
  },
  {
   "cell_type": "code",
   "execution_count": 1458,
   "metadata": {
    "ExecuteTime": {
     "end_time": "2022-10-29T15:24:39.656566Z",
     "start_time": "2022-10-29T15:24:39.516553Z"
    },
    "colab": {
     "base_uri": "https://localhost:8080/",
     "height": 279
    },
    "id": "_jzvksCFET8P",
    "outputId": "35a93ae5-393f-43ba-ce4c-a0ade49eb1e9",
    "scrolled": false
   },
   "outputs": [
    {
     "data": {
      "image/png": "[encoded data removed]",
      "text/plain": [
       "<Figure size 500x300 with 1 Axes>"
      ]
     },
     "metadata": {},
     "output_type": "display_data"
    }
   ],
   "source": [
    "plt.plot(loss_history)\n",
    "plt.xlabel('Iteration number')\n",
    "plt.ylabel('Loss value')\n",
    "plt.show()"
   ]
  },
  {
   "cell_type": "code",
   "execution_count": 1459,
   "metadata": {
    "ExecuteTime": {
     "end_time": "2022-10-29T15:24:40.310924Z",
     "start_time": "2022-10-29T15:24:40.267510Z"
    },
    "colab": {
     "base_uri": "https://localhost:8080/"
    },
    "id": "eFNormxyET8P",
    "outputId": "7aa6b408-7826-4d59-a99c-5f40725a0b1f"
   },
   "outputs": [
    {
     "name": "stdout",
     "output_type": "stream",
     "text": [
      "Training accuracy:  77.44\n",
      "Testing accuracy:  76.9\n"
     ]
    }
   ],
   "source": [
    "print(\"Training accuracy: \", perceptron.calc_accuracy(X_train, y_train))\n",
    "print(\"Testing accuracy: \", perceptron.calc_accuracy(X_test, y_test))"
   ]
  },
  {
   "cell_type": "markdown",
   "metadata": {
    "id": "R277VSx8ET8P"
   },
   "source": [
    "## Hyperparameter optimization\n",
    "\n",
    "Your model should have improved from 50% accuracy to ~75% accuracy in a matter of seconds. Now, use the validation set to tune hyperparameters by training different models (using the training dataset) and evaluating the performance using the validation dataset. Save the results in a dictionary mapping tuples of the form `(learning_rate, batch_size)` to tuples of the form `(training_accuracy, validation_accuracy)`. Finally, you should evaluate the best model on the testing dataset. \n",
    "\n",
    "Use a small value for the number of iterations as you develop your code. Once you are confident that everything works, run it again for more iterations. **(5 points)**\n"
   ]
  },
  {
   "cell_type": "code",
   "execution_count": 1460,
   "metadata": {
    "ExecuteTime": {
     "end_time": "2022-10-29T15:28:28.780040Z",
     "start_time": "2022-10-29T15:27:34.777137Z"
    },
    "colab": {
     "base_uri": "https://localhost:8080/"
    },
    "id": "m_g5iSBQET8Q",
    "outputId": "95953a49-5ff4-456e-db93-734fad51b975"
   },
   "outputs": [
    {
     "name": "stdout",
     "output_type": "stream",
     "text": [
      "iteration 0 / 1500: loss 0.271080\n",
      "iteration 100 / 1500: loss 0.444409\n",
      "iteration 200 / 1500: loss 0.000000\n",
      "iteration 300 / 1500: loss 0.000000\n",
      "iteration 400 / 1500: loss 0.217474\n",
      "iteration 500 / 1500: loss 0.000000\n",
      "iteration 600 / 1500: loss 0.000000\n",
      "iteration 700 / 1500: loss 0.000000\n",
      "iteration 800 / 1500: loss 0.764733\n",
      "iteration 900 / 1500: loss 0.000000\n",
      "iteration 1000 / 1500: loss 0.000000\n",
      "iteration 1100 / 1500: loss 0.000000\n",
      "iteration 1200 / 1500: loss 0.269898\n",
      "iteration 1300 / 1500: loss 0.000000\n",
      "iteration 1400 / 1500: loss 0.000000\n",
      "iteration 0 / 1500: loss 0.131366\n",
      "iteration 100 / 1500: loss 0.028862\n",
      "iteration 200 / 1500: loss 0.038590\n",
      "iteration 300 / 1500: loss 0.041210\n",
      "iteration 400 / 1500: loss 0.022977\n",
      "iteration 500 / 1500: loss 0.012948\n",
      "iteration 600 / 1500: loss 0.024373\n",
      "iteration 700 / 1500: loss 0.037873\n",
      "iteration 800 / 1500: loss 0.030425\n",
      "iteration 900 / 1500: loss 0.014987\n",
      "iteration 1000 / 1500: loss 0.014923\n",
      "iteration 1100 / 1500: loss 0.019165\n",
      "iteration 1200 / 1500: loss 0.020860\n",
      "iteration 1300 / 1500: loss 0.021192\n",
      "iteration 1400 / 1500: loss 0.015815\n",
      "iteration 0 / 1500: loss 0.251079\n",
      "iteration 100 / 1500: loss 0.011056\n",
      "iteration 200 / 1500: loss 0.050912\n",
      "iteration 300 / 1500: loss 0.017176\n",
      "iteration 400 / 1500: loss 0.012370\n",
      "iteration 500 / 1500: loss 0.015349\n",
      "iteration 600 / 1500: loss 0.019686\n",
      "iteration 700 / 1500: loss 0.015815\n",
      "iteration 800 / 1500: loss 0.017578\n",
      "iteration 900 / 1500: loss 0.013440\n",
      "iteration 1000 / 1500: loss 0.014492\n",
      "iteration 1100 / 1500: loss 0.008839\n",
      "iteration 1200 / 1500: loss 0.013301\n",
      "iteration 1300 / 1500: loss 0.011069\n",
      "iteration 1400 / 1500: loss 0.013771\n",
      "iteration 0 / 1500: loss 0.095339\n",
      "iteration 100 / 1500: loss 0.031339\n",
      "iteration 200 / 1500: loss 0.018619\n",
      "iteration 300 / 1500: loss 0.029036\n",
      "iteration 400 / 1500: loss 0.022786\n",
      "iteration 500 / 1500: loss 0.013765\n",
      "iteration 600 / 1500: loss 0.022274\n",
      "iteration 700 / 1500: loss 0.017071\n",
      "iteration 800 / 1500: loss 0.015712\n",
      "iteration 900 / 1500: loss 0.011763\n",
      "iteration 1000 / 1500: loss 0.011430\n",
      "iteration 1100 / 1500: loss 0.012471\n",
      "iteration 1200 / 1500: loss 0.010196\n",
      "iteration 1300 / 1500: loss 0.008077\n",
      "iteration 1400 / 1500: loss 0.011537\n",
      "iteration 0 / 1500: loss 0.104605\n",
      "iteration 100 / 1500: loss 0.037239\n",
      "iteration 200 / 1500: loss 0.023099\n",
      "iteration 300 / 1500: loss 0.022383\n",
      "iteration 400 / 1500: loss 0.018485\n",
      "iteration 500 / 1500: loss 0.017229\n",
      "iteration 600 / 1500: loss 0.018416\n",
      "iteration 700 / 1500: loss 0.016922\n",
      "iteration 800 / 1500: loss 0.015141\n",
      "iteration 900 / 1500: loss 0.012397\n",
      "iteration 1000 / 1500: loss 0.013151\n",
      "iteration 1100 / 1500: loss 0.013069\n",
      "iteration 1200 / 1500: loss 0.013855\n",
      "iteration 1300 / 1500: loss 0.012728\n",
      "iteration 1400 / 1500: loss 0.012774\n",
      "iteration 0 / 1500: loss 0.181287\n",
      "iteration 100 / 1500: loss 0.000000\n",
      "iteration 200 / 1500: loss 0.286485\n",
      "iteration 300 / 1500: loss 6.284523\n",
      "iteration 400 / 1500: loss 0.000000\n",
      "iteration 500 / 1500: loss 0.000000\n",
      "iteration 600 / 1500: loss 0.000000\n",
      "iteration 700 / 1500: loss 0.000000\n",
      "iteration 800 / 1500: loss 0.000000\n",
      "iteration 900 / 1500: loss 0.000000\n",
      "iteration 1000 / 1500: loss 0.000000\n",
      "iteration 1100 / 1500: loss 0.000000\n",
      "iteration 1200 / 1500: loss 12.796560\n",
      "iteration 1300 / 1500: loss 0.000000\n",
      "iteration 1400 / 1500: loss 0.000000\n",
      "iteration 0 / 1500: loss 0.190979\n",
      "iteration 100 / 1500: loss 0.070259\n",
      "iteration 200 / 1500: loss 0.133434\n",
      "iteration 300 / 1500: loss 0.065314\n",
      "iteration 400 / 1500: loss 0.067823\n",
      "iteration 500 / 1500: loss 0.054745\n",
      "iteration 600 / 1500: loss 0.065214\n",
      "iteration 700 / 1500: loss 0.117828\n",
      "iteration 800 / 1500: loss 0.067259\n",
      "iteration 900 / 1500: loss 0.139526\n",
      "iteration 1000 / 1500: loss 0.035504\n",
      "iteration 1100 / 1500: loss 0.092120\n",
      "iteration 1200 / 1500: loss 0.064621\n",
      "iteration 1300 / 1500: loss 0.066639\n",
      "iteration 1400 / 1500: loss 0.045477\n",
      "iteration 0 / 1500: loss 0.138026\n",
      "iteration 100 / 1500: loss 0.085270\n",
      "iteration 200 / 1500: loss 0.072011\n",
      "iteration 300 / 1500: loss 0.047151\n",
      "iteration 400 / 1500: loss 0.038261\n",
      "iteration 500 / 1500: loss 0.055297\n",
      "iteration 600 / 1500: loss 0.106034\n",
      "iteration 700 / 1500: loss 0.111289\n",
      "iteration 800 / 1500: loss 0.160956\n",
      "iteration 900 / 1500: loss 0.185104\n",
      "iteration 1000 / 1500: loss 0.059528\n",
      "iteration 1100 / 1500: loss 0.052120\n",
      "iteration 1200 / 1500: loss 0.053362\n",
      "iteration 1300 / 1500: loss 0.031599\n",
      "iteration 1400 / 1500: loss 0.044801\n",
      "iteration 0 / 1500: loss 0.154606\n",
      "iteration 100 / 1500: loss 0.148300\n",
      "iteration 200 / 1500: loss 0.042855\n",
      "iteration 300 / 1500: loss 0.046089\n",
      "iteration 400 / 1500: loss 0.036587\n",
      "iteration 500 / 1500: loss 0.151569\n",
      "iteration 600 / 1500: loss 0.125660\n",
      "iteration 700 / 1500: loss 0.044001\n",
      "iteration 800 / 1500: loss 0.038176\n",
      "iteration 900 / 1500: loss 0.067704\n",
      "iteration 1000 / 1500: loss 0.126227\n",
      "iteration 1100 / 1500: loss 0.056971\n",
      "iteration 1200 / 1500: loss 0.134028\n",
      "iteration 1300 / 1500: loss 0.064141\n",
      "iteration 1400 / 1500: loss 0.082535\n",
      "iteration 0 / 1500: loss 0.099426\n",
      "iteration 100 / 1500: loss 0.033683\n",
      "iteration 200 / 1500: loss 0.047514\n",
      "iteration 300 / 1500: loss 0.122252\n",
      "iteration 400 / 1500: loss 0.038407\n",
      "iteration 500 / 1500: loss 0.044140\n",
      "iteration 600 / 1500: loss 0.026823\n",
      "iteration 700 / 1500: loss 0.102389\n",
      "iteration 800 / 1500: loss 0.037788\n",
      "iteration 900 / 1500: loss 0.219711\n",
      "iteration 1000 / 1500: loss 0.036962\n",
      "iteration 1100 / 1500: loss 0.029494\n",
      "iteration 1200 / 1500: loss 0.030289\n",
      "iteration 1300 / 1500: loss 0.042881\n",
      "iteration 1400 / 1500: loss 0.100798\n",
      "iteration 0 / 1500: loss 0.000000\n",
      "iteration 100 / 1500: loss 0.000000\n",
      "iteration 200 / 1500: loss 2.205231\n",
      "iteration 300 / 1500: loss 0.000000\n",
      "iteration 400 / 1500: loss 0.000000\n",
      "iteration 500 / 1500: loss 0.000000\n",
      "iteration 600 / 1500: loss 0.000000\n",
      "iteration 700 / 1500: loss 0.000000\n",
      "iteration 800 / 1500: loss 0.000000\n",
      "iteration 900 / 1500: loss 64.154993\n",
      "iteration 1000 / 1500: loss 0.000000\n",
      "iteration 1100 / 1500: loss 12.223141\n",
      "iteration 1200 / 1500: loss 10.816629\n",
      "iteration 1300 / 1500: loss 0.000000\n",
      "iteration 1400 / 1500: loss 0.000000\n",
      "iteration 0 / 1500: loss 0.169483\n",
      "iteration 100 / 1500: loss 0.271119\n",
      "iteration 200 / 1500: loss 0.299708\n",
      "iteration 300 / 1500: loss 0.128032\n",
      "iteration 400 / 1500: loss 0.388528\n",
      "iteration 500 / 1500: loss 0.770062\n",
      "iteration 600 / 1500: loss 0.532878\n",
      "iteration 700 / 1500: loss 0.410388\n",
      "iteration 800 / 1500: loss 0.576735\n",
      "iteration 900 / 1500: loss 0.420288\n",
      "iteration 1000 / 1500: loss 0.168656\n",
      "iteration 1100 / 1500: loss 0.254816\n",
      "iteration 1200 / 1500: loss 0.417954\n",
      "iteration 1300 / 1500: loss 0.123470\n",
      "iteration 1400 / 1500: loss 0.626502\n",
      "iteration 0 / 1500: loss 0.188963\n",
      "iteration 100 / 1500: loss 0.184757\n",
      "iteration 200 / 1500: loss 0.176260\n",
      "iteration 300 / 1500: loss 0.380451\n",
      "iteration 400 / 1500: loss 0.284832\n",
      "iteration 500 / 1500: loss 0.307364\n",
      "iteration 600 / 1500: loss 0.539363\n",
      "iteration 700 / 1500: loss 0.225843\n",
      "iteration 800 / 1500: loss 0.235602\n",
      "iteration 900 / 1500: loss 0.542646\n",
      "iteration 1000 / 1500: loss 0.741015\n",
      "iteration 1100 / 1500: loss 0.869752\n",
      "iteration 1200 / 1500: loss 0.150170\n",
      "iteration 1300 / 1500: loss 0.722393\n",
      "iteration 1400 / 1500: loss 0.828573\n",
      "iteration 0 / 1500: loss 0.084603\n",
      "iteration 100 / 1500: loss 0.464033\n",
      "iteration 200 / 1500: loss 0.273113\n",
      "iteration 300 / 1500: loss 0.236522\n",
      "iteration 400 / 1500: loss 0.315314\n",
      "iteration 500 / 1500: loss 0.130292\n",
      "iteration 600 / 1500: loss 0.397825\n",
      "iteration 700 / 1500: loss 0.502255\n",
      "iteration 800 / 1500: loss 0.155695\n",
      "iteration 900 / 1500: loss 0.129610\n",
      "iteration 1000 / 1500: loss 0.223324\n",
      "iteration 1100 / 1500: loss 0.859329\n",
      "iteration 1200 / 1500: loss 0.745248\n",
      "iteration 1300 / 1500: loss 0.210133\n",
      "iteration 1400 / 1500: loss 0.689732\n",
      "iteration 0 / 1500: loss 0.222424\n",
      "iteration 100 / 1500: loss 0.573278\n",
      "iteration 200 / 1500: loss 0.262905\n",
      "iteration 300 / 1500: loss 0.632744\n",
      "iteration 400 / 1500: loss 0.282831\n",
      "iteration 500 / 1500: loss 0.983813\n",
      "iteration 600 / 1500: loss 0.144233\n",
      "iteration 700 / 1500: loss 0.174969\n",
      "iteration 800 / 1500: loss 0.460972\n",
      "iteration 900 / 1500: loss 0.340551\n",
      "iteration 1000 / 1500: loss 0.321905\n",
      "iteration 1100 / 1500: loss 0.206417\n",
      "iteration 1200 / 1500: loss 0.184022\n",
      "iteration 1300 / 1500: loss 0.149009\n",
      "iteration 1400 / 1500: loss 0.147790\n",
      "iteration 0 / 1500: loss 0.205677\n",
      "iteration 100 / 1500: loss 0.000000\n",
      "iteration 200 / 1500: loss 0.000000\n",
      "iteration 300 / 1500: loss 39.584889\n",
      "iteration 400 / 1500: loss 0.000000\n",
      "iteration 500 / 1500: loss 0.000000\n",
      "iteration 600 / 1500: loss 0.000000\n",
      "iteration 700 / 1500: loss 0.000000\n",
      "iteration 800 / 1500: loss 0.000000\n",
      "iteration 900 / 1500: loss 0.000000\n",
      "iteration 1000 / 1500: loss 108.043782\n",
      "iteration 1100 / 1500: loss 0.000000\n",
      "iteration 1200 / 1500: loss 0.000000\n",
      "iteration 1300 / 1500: loss 0.000000\n",
      "iteration 1400 / 1500: loss 0.000000\n",
      "iteration 0 / 1500: loss 0.093269\n",
      "iteration 100 / 1500: loss 0.817940\n",
      "iteration 200 / 1500: loss 0.381017\n",
      "iteration 300 / 1500: loss 0.835599\n",
      "iteration 400 / 1500: loss 0.958890\n",
      "iteration 500 / 1500: loss 0.198523\n",
      "iteration 600 / 1500: loss 0.668239\n",
      "iteration 700 / 1500: loss 2.366200\n",
      "iteration 800 / 1500: loss 1.373598\n",
      "iteration 900 / 1500: loss 0.740603\n",
      "iteration 1000 / 1500: loss 1.062093\n",
      "iteration 1100 / 1500: loss 1.475685\n",
      "iteration 1200 / 1500: loss 1.486863\n",
      "iteration 1300 / 1500: loss 0.729030\n",
      "iteration 1400 / 1500: loss 0.323018\n",
      "iteration 0 / 1500: loss 0.082883\n",
      "iteration 100 / 1500: loss 0.741693\n",
      "iteration 200 / 1500: loss 0.361694\n",
      "iteration 300 / 1500: loss 0.484886\n",
      "iteration 400 / 1500: loss 0.436663\n",
      "iteration 500 / 1500: loss 0.950602\n",
      "iteration 600 / 1500: loss 0.665952\n",
      "iteration 700 / 1500: loss 0.330395\n",
      "iteration 800 / 1500: loss 0.370054\n",
      "iteration 900 / 1500: loss 0.528390\n",
      "iteration 1000 / 1500: loss 2.248678\n",
      "iteration 1100 / 1500: loss 0.424921\n",
      "iteration 1200 / 1500: loss 0.473290\n",
      "iteration 1300 / 1500: loss 1.485604\n",
      "iteration 1400 / 1500: loss 0.962262\n",
      "iteration 0 / 1500: loss 0.153075\n",
      "iteration 100 / 1500: loss 1.306617\n",
      "iteration 200 / 1500: loss 0.401734\n",
      "iteration 300 / 1500: loss 0.226655\n",
      "iteration 400 / 1500: loss 0.480140\n",
      "iteration 500 / 1500: loss 0.313276\n",
      "iteration 600 / 1500: loss 0.504611\n",
      "iteration 700 / 1500: loss 0.770282\n",
      "iteration 800 / 1500: loss 0.431077\n",
      "iteration 900 / 1500: loss 0.496755\n",
      "iteration 1000 / 1500: loss 0.515572\n",
      "iteration 1100 / 1500: loss 0.476845\n",
      "iteration 1200 / 1500: loss 0.434039\n",
      "iteration 1300 / 1500: loss 0.468745\n",
      "iteration 1400 / 1500: loss 0.405834\n",
      "iteration 0 / 1500: loss 0.136788\n",
      "iteration 100 / 1500: loss 2.232817\n",
      "iteration 200 / 1500: loss 1.530117\n",
      "iteration 300 / 1500: loss 0.438288\n",
      "iteration 400 / 1500: loss 0.492088\n",
      "iteration 500 / 1500: loss 0.230219\n",
      "iteration 600 / 1500: loss 1.303689\n",
      "iteration 700 / 1500: loss 1.229125\n",
      "iteration 800 / 1500: loss 0.488278\n",
      "iteration 900 / 1500: loss 0.454719\n",
      "iteration 1000 / 1500: loss 0.211447\n",
      "iteration 1100 / 1500: loss 1.963408\n",
      "iteration 1200 / 1500: loss 1.199994\n",
      "iteration 1300 / 1500: loss 0.956690\n",
      "iteration 1400 / 1500: loss 0.278002\n",
      "lr 1.000000e-07 batch_size 1.000000e+00 train accuracy: 78.540000 val accuracy: 78.300000\n",
      "lr 1.000000e-07 batch_size 5.000000e+01 train accuracy: 77.200000 val accuracy: 78.600000\n",
      "lr 1.000000e-07 batch_size 1.000000e+02 train accuracy: 77.180000 val accuracy: 77.300000\n",
      "lr 1.000000e-07 batch_size 2.000000e+02 train accuracy: 77.510000 val accuracy: 77.600000\n",
      "lr 1.000000e-07 batch_size 5.000000e+02 train accuracy: 77.330000 val accuracy: 76.700000\n",
      "lr 1.000000e-06 batch_size 1.000000e+00 train accuracy: 76.930000 val accuracy: 76.700000\n",
      "lr 1.000000e-06 batch_size 5.000000e+01 train accuracy: 81.230000 val accuracy: 80.000000\n",
      "lr 1.000000e-06 batch_size 1.000000e+02 train accuracy: 74.990000 val accuracy: 76.300000\n",
      "lr 1.000000e-06 batch_size 2.000000e+02 train accuracy: 81.000000 val accuracy: 80.400000\n",
      "lr 1.000000e-06 batch_size 5.000000e+02 train accuracy: 84.200000 val accuracy: 83.100000\n",
      "lr 5.000000e-06 batch_size 1.000000e+00 train accuracy: 76.960000 val accuracy: 77.100000\n",
      "lr 5.000000e-06 batch_size 5.000000e+01 train accuracy: 80.360000 val accuracy: 78.700000\n",
      "lr 5.000000e-06 batch_size 1.000000e+02 train accuracy: 66.550000 val accuracy: 65.800000\n",
      "lr 5.000000e-06 batch_size 2.000000e+02 train accuracy: 81.990000 val accuracy: 80.900000\n",
      "lr 5.000000e-06 batch_size 5.000000e+02 train accuracy: 77.720000 val accuracy: 77.700000\n",
      "lr 1.000000e-05 batch_size 1.000000e+00 train accuracy: 77.340000 val accuracy: 75.900000\n",
      "lr 1.000000e-05 batch_size 5.000000e+01 train accuracy: 81.840000 val accuracy: 81.200000\n",
      "lr 1.000000e-05 batch_size 1.000000e+02 train accuracy: 80.150000 val accuracy: 79.400000\n",
      "lr 1.000000e-05 batch_size 2.000000e+02 train accuracy: 81.350000 val accuracy: 80.100000\n",
      "lr 1.000000e-05 batch_size 5.000000e+02 train accuracy: 81.430000 val accuracy: 80.100000\n",
      "best validation accuracy achieved during cross-validation: 83.100000\n",
      "linear perceptron on raw pixels final test set accuracy: 80.900000\n"
     ]
    }
   ],
   "source": [
    "# You are encouraged to experiment with additional values\n",
    "learning_rates = [1e-7, 1e-6, 5e-6, 1e-5]\n",
    "batch_sizes = [1, 50, 100, 200, 500]\n",
    "\n",
    "\n",
    "results = {}\n",
    "best_val = -1   # The highest validation accuracy that we have seen so far.\n",
    "best_perceptron = None # The LinearPerceptron object that achieved the highest validation rate.\n",
    "\n",
    "################################################################################\n",
    "#                            START OF YOUR CODE                                #\n",
    "################################################################################\n",
    "\n",
    "# Try all combinations of learning rates and batch sizes\n",
    "for lr in learning_rates:\n",
    "   for bs in batch_sizes:\n",
    "       # Train a new perceptron with current hyperparameters\n",
    "       perceptron = LinearPerceptron(X_train, y_train)\n",
    "       \n",
    "       # Train the model\n",
    "       perceptron.train(X_train, y_train, learning_rate=lr, batch_size=bs, num_iters=1500, verbose=True)\n",
    "       \n",
    "       # Calculate training and validation accuracy\n",
    "       train_accuracy = perceptron.calc_accuracy(X_train, y_train)\n",
    "       val_accuracy = perceptron.calc_accuracy(X_val, y_val)\n",
    "       \n",
    "       # Store results\n",
    "       results[(lr, bs)] = (train_accuracy, val_accuracy)\n",
    "       \n",
    "       # Update best model if this one is better\n",
    "       if val_accuracy > best_val:\n",
    "           best_val = val_accuracy\n",
    "           best_perceptron = perceptron\n",
    "\n",
    "################################################################################\n",
    "#                              END OF YOUR CODE                                #\n",
    "################################################################################\n",
    "    \n",
    "# Print out results.\n",
    "for lr, batch_size in sorted(results):\n",
    "    train_accuracy, val_accuracy = results[(lr, batch_size)]\n",
    "    print ('lr %e batch_size %e train accuracy: %f val accuracy: %f' % (\n",
    "                lr, batch_size, train_accuracy, val_accuracy))\n",
    "    \n",
    "print ('best validation accuracy achieved during cross-validation: %f' % best_val)\n",
    "\n",
    "test_accuracy = best_perceptron.calc_accuracy(X_test, y_test)\n",
    "print ('linear perceptron on raw pixels final test set accuracy: %f' % test_accuracy)"
   ]
  },
  {
   "cell_type": "markdown",
   "metadata": {
    "id": "upoW3pQ1ET8Q"
   },
   "source": [
    "## Logistic regression\n",
    "\n",
    "Another choice for a binary classifier is the binary logistic regression classifier. Unlike the perceptron which treats the outputs as uncalibrated and possibly difficult to interpret scores for each class, the binary logistic regression classifier gives a slightly more intuitive output in the form of normalized class probabilities. In this classifier, the function mapping $f(x_i; W, b) = W\\cdot x_i + b$ stays unchanged but we now interpret these scores as the unnormalized log probabilities for each class and replace the perceptron loss with a cross-entropy loss. In this exercise, we will define our binary logistic regression classifier to have one input.       \n",
    "\n",
    "Read the next code cell. The constructor of the `LogisticRegression` class takes as input the dataset and labels in order to create appropriate parameters. Notice we are using the bias trick and only use the matrix `w` for convenience. Since we already have a (random) model, we can start predicting classes on images. Complete the method `predict` in the `LogisticRegression` class - remember you need to implement the sigmoid function before you can obtain predictions using your classifier. **(10 Points)**\n",
    "\n",
    "**Important note**: values passed to the `sigmoid` function can be arbitrarily large or small. When we take the exponent of such values, we might encounter extreme values that might *overflow*. This is known as numerical instability and you should always take care when you use exponent in your functions. "
   ]
  },
  {
   "cell_type": "code",
   "execution_count": 1461,
   "metadata": {
    "ExecuteTime": {
     "end_time": "2022-10-29T15:30:35.229664Z",
     "start_time": "2022-10-29T15:30:35.184722Z"
    },
    "id": "Y9cU2sJ_X96d"
   },
   "outputs": [],
   "source": [
    "def sigmoid(x):\n",
    "    \"\"\"\n",
    "    Numerically stable Sigmoid function.\n",
    "\n",
    "    Input: any unnormalized log probabilities vector\n",
    "    Output: normalized probabilities\n",
    "    \"\"\"\n",
    "    #############################################################################\n",
    "    # Implement the function                                                    #\n",
    "    #############################################################################\n",
    "   \n",
    "    return np.where(\n",
    "        x >= 0,\n",
    "        1 / (1 + np.exp(-x)),     # For positive values\n",
    "        np.exp(x) / (1 + np.exp(x))  # For negative values\n",
    "    )\n",
    "    \n",
    "    #############################################################################\n",
    "    #                             END OF YOUR CODE                              #\n",
    "    #############################################################################"
   ]
  },
  {
   "cell_type": "code",
   "execution_count": 1462,
   "metadata": {
    "ExecuteTime": {
     "end_time": "2022-10-29T15:30:52.504993Z",
     "start_time": "2022-10-29T15:30:52.486057Z"
    },
    "id": "oGClf3GJLlBp"
   },
   "outputs": [],
   "source": [
    "class LogisticRegression(LinearClassifier):\n",
    "    # Classifer that uses sigmoid and binary cross entropy loss\n",
    "    def __init__(self, X, y):\n",
    "        self.W = None\n",
    "        ###########################################################################\n",
    "        # Initiate the parameters of your model.                                  #\n",
    "        ###########################################################################\n",
    "\n",
    "       # Initialize weights with small random values\n",
    "        self.W = np.random.randn(3073, 1) * 0.0001\n",
    "        \n",
    "        ###########################################################################\n",
    "        #                           END OF YOUR CODE                              #\n",
    "        ###########################################################################\n",
    "\n",
    "\n",
    "    def predict(self, X):\n",
    "        y_pred = None\n",
    "        ###########################################################################\n",
    "        # Implement this method.                                                  #\n",
    "        ###########################################################################\n",
    "         \n",
    "       # Calculate scores\n",
    "        scores = np.dot(X, self.W)\n",
    "        \n",
    "        # Apply sigmoid to get probabilities\n",
    "        probs = sigmoid(scores)\n",
    "        \n",
    "        # Convert to binary predictions\n",
    "        y_pred = np.where(probs >= 0.5, 1, 0)\n",
    "        y_pred = y_pred.reshape(-1)  # Flatten to 1D array\n",
    "        \n",
    "        ###########################################################################\n",
    "        #                           END OF YOUR CODE                              #\n",
    "        ###########################################################################\n",
    "        return y_pred\n",
    "\n",
    "\n",
    "    def loss(self, X_batch, y_batch):\n",
    "        # will be implemented later\n",
    "        return binary_cross_entropy(self.W, X_batch, y_batch)"
   ]
  },
  {
   "cell_type": "code",
   "execution_count": 1463,
   "metadata": {
    "ExecuteTime": {
     "end_time": "2022-10-29T15:30:53.132207Z",
     "start_time": "2022-10-29T15:30:53.121237Z"
    },
    "id": "BRrb-mb5ET8Q"
   },
   "outputs": [],
   "source": [
    "logistic = LogisticRegression(X_train, y_train)\n",
    "y_pred = logistic.predict(X_test)"
   ]
  },
  {
   "cell_type": "code",
   "execution_count": 1464,
   "metadata": {
    "ExecuteTime": {
     "end_time": "2022-10-29T15:30:53.866044Z",
     "start_time": "2022-10-29T15:30:53.729569Z"
    },
    "colab": {
     "base_uri": "https://localhost:8080/",
     "height": 151
    },
    "id": "jUb2tkIMET8Q",
    "outputId": "291f15f3-2027-4203-e341-932763106cdb"
   },
   "outputs": [
    {
     "name": "stdout",
     "output_type": "stream",
     "text": [
      "    plane\t      car\t    plane\t    plane\n"
     ]
    },
    {
     "data": {
      "text/plain": [
       "<matplotlib.image.AxesImage at 0x2a880686180>"
      ]
     },
     "execution_count": 1464,
     "metadata": {},
     "output_type": "execute_result"
    },
    {
     "data": {
      "image/png": "[encoded data removed]",
      "text/plain": [
       "<Figure size 500x300 with 1 Axes>"
      ]
     },
     "metadata": {},
     "output_type": "display_data"
    }
   ],
   "source": [
    "X_batch, y_batch = get_batch(X_train, y_train, 4)\n",
    "plt.imshow(make_random_grid(X_batch, y_batch))"
   ]
  },
  {
   "cell_type": "code",
   "execution_count": 1465,
   "metadata": {
    "ExecuteTime": {
     "end_time": "2022-10-29T15:31:05.584563Z",
     "start_time": "2022-10-29T15:31:05.559650Z"
    },
    "colab": {
     "base_uri": "https://localhost:8080/"
    },
    "id": "1I5T0LiBET8Q",
    "outputId": "c2163b3f-210c-4960-9800-4ab2d54fd9a0"
   },
   "outputs": [
    {
     "name": "stdout",
     "output_type": "stream",
     "text": [
      "          car           car         plane           car\n"
     ]
    }
   ],
   "source": [
    "# predictions\n",
    "print(' '.join('%13s' % classes[y_pred[j]] for j in range(4)))"
   ]
  },
  {
   "cell_type": "code",
   "execution_count": 1466,
   "metadata": {
    "ExecuteTime": {
     "end_time": "2022-10-29T15:31:10.105426Z",
     "start_time": "2022-10-29T15:31:10.033927Z"
    },
    "colab": {
     "base_uri": "https://localhost:8080/"
    },
    "id": "29GDDyzIET8Q",
    "outputId": "22eea029-a2b6-441d-dee6-b1819eda9b27"
   },
   "outputs": [
    {
     "name": "stdout",
     "output_type": "stream",
     "text": [
      "model accuracy:  43.480000000000004\n"
     ]
    }
   ],
   "source": [
    "print(\"model accuracy: \", logistic.calc_accuracy(X_train, y_train))"
   ]
  },
  {
   "cell_type": "markdown",
   "metadata": {
    "id": "Vpy2WTyGET8Q"
   },
   "source": [
    "## Binary cross-entropy\n",
    "\n",
    "Your code for this section will written in the next cell. \n",
    "\n",
    "Complete the function `binary_cross_entropy` using vectorized code. This function takes as input the weights, data, labels and outputs the calculated loss as a single number and the gradients with respect to W. (**20 points**)"
   ]
  },
  {
   "cell_type": "code",
   "execution_count": 1467,
   "metadata": {
    "ExecuteTime": {
     "end_time": "2022-10-29T15:31:30.874716Z",
     "start_time": "2022-10-29T15:31:30.826315Z"
    },
    "id": "pfjEDW6n3mRu"
   },
   "outputs": [],
   "source": [
    "def binary_cross_entropy(W, X, y):\n",
    "    \"\"\"\n",
    "    Structured BCE loss function. Implement this function using vectorized code.\n",
    "    Inputs:\n",
    "    - W: array of weights\n",
    "    - X: array of data\n",
    "    - y: 1-dimensional array of length N with binary labels (0,1). \n",
    "    Returns:\n",
    "    a tuple of:\n",
    "    - loss as single float\n",
    "    - gradient with respect to weights W; an array of same shape as W\n",
    "    \"\"\"\n",
    "    loss = 0.0\n",
    "    dW = np.zeros(W.shape) # initialize the gradient as zero\n",
    "    #############################################################################\n",
    "    # Implement the function and store result in loss and the gradint in dW     #\n",
    "    # Note: in class you defined BCE that takes values from the range (-1,1).   #\n",
    "    # and the sigmoid function generally outputs values in the range (0,1).     #\n",
    "    # Make the proper adjustments for your code to work.                        #\n",
    "    #############################################################################\n",
    "    \n",
    "    num_samples = X.shape[0]\n",
    "    \n",
    "    # Calculate scores and apply sigmoid\n",
    "    scores = np.dot(X, W)  # shape: (num_samples, 1)\n",
    "    probs = sigmoid(scores)  # shape: (num_samples, 1)\n",
    "    \n",
    "    # Reshape y to match probs shape\n",
    "    y = y.reshape(-1, 1)  # shape: (num_samples, 1)\n",
    "    \n",
    "    # Add small epsilon and clip for numerical stability\n",
    "    epsilon = 1e-12 \n",
    "    probs = np.clip(probs, epsilon, 1.0  - epsilon)\n",
    "    \n",
    "    # Binary cross entropy loss\n",
    "    loss = -np.mean(y * np.log(probs) + (1 - y) * np.log(1 - probs))\n",
    "    \n",
    "    # Compute gradients\n",
    "    dW = np.dot(X.T, (probs - y)) / num_samples\n",
    "    \n",
    "    #############################################################################\n",
    "    #                             END OF YOUR CODE                              #\n",
    "    #############################################################################\n",
    "    return loss, dW"
   ]
  },
  {
   "cell_type": "code",
   "execution_count": 1468,
   "metadata": {
    "ExecuteTime": {
     "end_time": "2022-10-29T15:31:34.082144Z",
     "start_time": "2022-10-29T15:31:34.066172Z"
    },
    "id": "EvLw8x4oET8Q"
   },
   "outputs": [],
   "source": [
    "W = np.random.randn(3073, 1) * 0.0001"
   ]
  },
  {
   "cell_type": "code",
   "execution_count": 1469,
   "metadata": {
    "ExecuteTime": {
     "end_time": "2022-10-29T15:31:36.963381Z",
     "start_time": "2022-10-29T15:31:36.923469Z"
    },
    "colab": {
     "base_uri": "https://localhost:8080/"
    },
    "id": "1VKKB4y8ET8Q",
    "outputId": "69441e31-0264-4ef0-bd70-dfbaf258da76"
   },
   "outputs": [
    {
     "name": "stdout",
     "output_type": "stream",
     "text": [
      "loss: 0.762336\n",
      "CPU times: total: 0 ns\n",
      "Wall time: 2.99 ms\n"
     ]
    }
   ],
   "source": [
    "%%time\n",
    "loss_naive, grad_naive = binary_cross_entropy(W, X_val, y_val)\n",
    "print ('loss: %f' % (loss_naive, ))"
   ]
  },
  {
   "cell_type": "markdown",
   "metadata": {
    "id": "IawKSQqf8vSq"
   },
   "source": [
    "You are provided with a gradient test in the next cells:"
   ]
  },
  {
   "cell_type": "code",
   "execution_count": 1470,
   "metadata": {
    "ExecuteTime": {
     "end_time": "2022-10-29T15:32:14.847516Z",
     "start_time": "2022-10-29T15:32:14.835995Z"
    },
    "id": "nms4Rd7O8s2l"
   },
   "outputs": [],
   "source": [
    "def grad_check(f, x, analytic_grad, num_checks=10, h=1e-5):\n",
    "    for i in range(num_checks):\n",
    "        ix = tuple([randrange(m) for m in x.shape])\n",
    "\n",
    "        oldval = x[ix]\n",
    "        x[ix] = oldval + h # increment by h\n",
    "        fxph = f(x) # evaluate f(x + h)\n",
    "        x[ix] = oldval - h # increment by h\n",
    "        fxmh = f(x) # evaluate f(x - h)\n",
    "        x[ix] = oldval # reset\n",
    "\n",
    "        grad_numerical = (fxph - fxmh) / (2 * h)\n",
    "        grad_analytic = analytic_grad[ix]\n",
    "        rel_error = abs(grad_numerical - grad_analytic) / (abs(grad_numerical) + abs(grad_analytic))\n",
    "        print ('numerical: %f analytic: %f, relative error: %e' % (grad_numerical, grad_analytic, rel_error))"
   ]
  },
  {
   "cell_type": "code",
   "execution_count": 1471,
   "metadata": {
    "ExecuteTime": {
     "end_time": "2022-10-29T15:32:16.311794Z",
     "start_time": "2022-10-29T15:32:16.096941Z"
    },
    "colab": {
     "base_uri": "https://localhost:8080/"
    },
    "id": "i0OWqVCzET8R",
    "outputId": "208134b9-db41-46bf-b8ee-73077bb65d03"
   },
   "outputs": [
    {
     "name": "stdout",
     "output_type": "stream",
     "text": [
      "numerical: 9.560776 analytic: 9.560776, relative error: 1.281461e-08\n",
      "numerical: 5.244294 analytic: 5.244294, relative error: 1.469251e-08\n",
      "numerical: -0.029291 analytic: -0.029291, relative error: 1.749594e-06\n",
      "numerical: 15.748354 analytic: 15.748354, relative error: 7.097959e-09\n",
      "numerical: 10.521650 analytic: 10.521650, relative error: 6.402422e-09\n",
      "numerical: 15.674797 analytic: 15.674797, relative error: 4.814522e-09\n",
      "numerical: 5.340426 analytic: 5.340427, relative error: 1.631636e-08\n",
      "numerical: 5.073163 analytic: 5.073163, relative error: 1.162325e-08\n",
      "numerical: 15.310845 analytic: 15.310845, relative error: 7.754230e-09\n",
      "numerical: -1.907725 analytic: -1.907725, relative error: 2.049189e-08\n"
     ]
    }
   ],
   "source": [
    "loss, grad = binary_cross_entropy(W, X_val, y_val)\n",
    "f = lambda w: binary_cross_entropy(w, X_val, y_val)[0]\n",
    "grad_numerical = grad_check(f, W, grad)"
   ]
  },
  {
   "cell_type": "markdown",
   "metadata": {
    "id": "r-qL6Ti_ET8R"
   },
   "source": [
    "If implemented correctly, the training procedure you already implemented should work."
   ]
  },
  {
   "cell_type": "code",
   "execution_count": 1472,
   "metadata": {
    "ExecuteTime": {
     "end_time": "2022-10-29T15:32:33.879334Z",
     "start_time": "2022-10-29T15:32:29.754892Z"
    },
    "colab": {
     "base_uri": "https://localhost:8080/"
    },
    "id": "RlW4q5xjET8R",
    "outputId": "4e639294-486c-40b8-cad1-8f49116b0509"
   },
   "outputs": [
    {
     "name": "stdout",
     "output_type": "stream",
     "text": [
      "iteration 0 / 1500: loss 0.665158\n"
     ]
    },
    {
     "name": "stdout",
     "output_type": "stream",
     "text": [
      "iteration 100 / 1500: loss 0.551818\n",
      "iteration 200 / 1500: loss 0.524480\n",
      "iteration 300 / 1500: loss 0.445773\n",
      "iteration 400 / 1500: loss 0.463363\n",
      "iteration 500 / 1500: loss 0.436164\n",
      "iteration 600 / 1500: loss 0.476501\n",
      "iteration 700 / 1500: loss 0.422104\n",
      "iteration 800 / 1500: loss 0.417502\n",
      "iteration 900 / 1500: loss 0.492756\n",
      "iteration 1000 / 1500: loss 0.476969\n",
      "iteration 1100 / 1500: loss 0.427874\n",
      "iteration 1200 / 1500: loss 0.498681\n",
      "iteration 1300 / 1500: loss 0.425881\n",
      "iteration 1400 / 1500: loss 0.389936\n",
      "CPU times: total: 24.3 s\n",
      "Wall time: 4.42 s\n"
     ]
    }
   ],
   "source": [
    "%%time\n",
    "logistic = LogisticRegression(X_train, y_train)\n",
    "loss_history = logistic.train(X_train, y_train, \n",
    "                         learning_rate=1e-7,\n",
    "                         num_iters=1500,\n",
    "                         verbose=True)"
   ]
  },
  {
   "cell_type": "code",
   "execution_count": 1473,
   "metadata": {
    "ExecuteTime": {
     "end_time": "2022-10-29T15:32:34.608148Z",
     "start_time": "2022-10-29T15:32:34.441343Z"
    },
    "colab": {
     "base_uri": "https://localhost:8080/",
     "height": 279
    },
    "id": "v_6Pf6lYET8R",
    "outputId": "f7d461cd-8211-4eeb-fe63-ae5e75ee18f2",
    "scrolled": true
   },
   "outputs": [
    {
     "data": {
      "image/png": "[encoded data removed]",
      "text/plain": [
       "<Figure size 500x300 with 1 Axes>"
      ]
     },
     "metadata": {},
     "output_type": "display_data"
    }
   ],
   "source": [
    "plt.plot(loss_history)\n",
    "plt.xlabel('Iteration number')\n",
    "plt.ylabel('Loss value')\n",
    "plt.show()"
   ]
  },
  {
   "cell_type": "code",
   "execution_count": 1474,
   "metadata": {
    "ExecuteTime": {
     "end_time": "2022-10-29T15:32:35.262213Z",
     "start_time": "2022-10-29T15:32:35.201690Z"
    },
    "colab": {
     "base_uri": "https://localhost:8080/"
    },
    "id": "4S2RkwT3ET8R",
    "outputId": "d1e1232a-da7b-4b80-a7e4-18a21923d94b"
   },
   "outputs": [
    {
     "name": "stdout",
     "output_type": "stream",
     "text": [
      "Training accuracy:  81.34\n",
      "Testing accuracy:  82.89999999999999\n"
     ]
    }
   ],
   "source": [
    "print(\"Training accuracy: \", logistic.calc_accuracy(X_train, y_train))\n",
    "print(\"Testing accuracy: \", logistic.calc_accuracy(X_test, y_test))"
   ]
  },
  {
   "cell_type": "markdown",
   "metadata": {
    "id": "G-1hg3RWET8R"
   },
   "source": [
    "## Hyperparameter optimization\n",
    "\n",
    "Your model should have improved from 50% accuracy to ~75% accuracy in a matter of seconds. Now, use the validation set to tune hyperparameters by training different models (using the training dataset) and evaluating the performance using the validation dataset. Save the results in a dictionary mapping tuples of the form `(learning_rate, batch_size)` to tuples of the form `(training_accuracy, validation_accuracy)`. Finally, you should evaluate the best model on the testing dataset. \n",
    "\n",
    "Use a small value for the number of iterations as you develop your code. Once you are confident that everything works, run it again for more iterations. **(5 points)**"
   ]
  },
  {
   "cell_type": "code",
   "execution_count": 1475,
   "metadata": {
    "ExecuteTime": {
     "end_time": "2022-10-29T15:34:05.819661Z",
     "start_time": "2022-10-29T15:33:33.339414Z"
    },
    "colab": {
     "base_uri": "https://localhost:8080/"
    },
    "id": "sxXvTbhJET8R",
    "outputId": "6acf3087-3461-4715-92c9-0fc4029f6c2f"
   },
   "outputs": [
    {
     "name": "stdout",
     "output_type": "stream",
     "text": [
      "iteration 0 / 1500: loss 0.596269\n",
      "iteration 100 / 1500: loss 0.018840\n",
      "iteration 200 / 1500: loss 0.125725\n",
      "iteration 300 / 1500: loss 0.154425\n",
      "iteration 400 / 1500: loss 0.048377\n",
      "iteration 500 / 1500: loss 0.963089\n",
      "iteration 600 / 1500: loss 0.623834\n",
      "iteration 700 / 1500: loss 0.050703\n",
      "iteration 800 / 1500: loss 0.280831\n",
      "iteration 900 / 1500: loss 0.163925\n",
      "iteration 1000 / 1500: loss 2.509405\n",
      "iteration 1100 / 1500: loss 0.236460\n",
      "iteration 1200 / 1500: loss 0.177468\n",
      "iteration 1300 / 1500: loss 1.288612\n",
      "iteration 1400 / 1500: loss 0.134273\n",
      "iteration 0 / 1500: loss 0.686929\n",
      "iteration 100 / 1500: loss 0.419616\n",
      "iteration 200 / 1500: loss 0.476894\n",
      "iteration 300 / 1500: loss 0.388606\n",
      "iteration 400 / 1500: loss 0.502983\n",
      "iteration 500 / 1500: loss 0.367557\n",
      "iteration 600 / 1500: loss 0.408201\n",
      "iteration 700 / 1500: loss 0.390392\n",
      "iteration 800 / 1500: loss 0.480984\n",
      "iteration 900 / 1500: loss 0.411159\n",
      "iteration 1000 / 1500: loss 0.494834\n",
      "iteration 1100 / 1500: loss 0.485444\n",
      "iteration 1200 / 1500: loss 0.521678\n",
      "iteration 1300 / 1500: loss 0.384940\n",
      "iteration 1400 / 1500: loss 0.448998\n",
      "iteration 0 / 1500: loss 0.719469\n",
      "iteration 100 / 1500: loss 0.541426\n",
      "iteration 200 / 1500: loss 0.518945\n",
      "iteration 300 / 1500: loss 0.411510\n",
      "iteration 400 / 1500: loss 0.474285\n",
      "iteration 500 / 1500: loss 0.532403\n",
      "iteration 600 / 1500: loss 0.428094\n",
      "iteration 700 / 1500: loss 0.445424\n",
      "iteration 800 / 1500: loss 0.462104\n",
      "iteration 900 / 1500: loss 0.380438\n",
      "iteration 1000 / 1500: loss 0.382258\n",
      "iteration 1100 / 1500: loss 0.418349\n",
      "iteration 1200 / 1500: loss 0.385514\n",
      "iteration 1300 / 1500: loss 0.500371\n",
      "iteration 1400 / 1500: loss 0.397243\n",
      "iteration 0 / 1500: loss 0.674007\n",
      "iteration 100 / 1500: loss 0.446034\n",
      "iteration 200 / 1500: loss 0.465069\n",
      "iteration 300 / 1500: loss 0.457292\n",
      "iteration 400 / 1500: loss 0.479147\n",
      "iteration 500 / 1500: loss 0.439770\n",
      "iteration 600 / 1500: loss 0.477222\n",
      "iteration 700 / 1500: loss 0.431204\n",
      "iteration 800 / 1500: loss 0.460399\n",
      "iteration 900 / 1500: loss 0.418657\n",
      "iteration 1000 / 1500: loss 0.457513\n",
      "iteration 1100 / 1500: loss 0.373547\n",
      "iteration 1200 / 1500: loss 0.350898\n",
      "iteration 1300 / 1500: loss 0.392961\n",
      "iteration 1400 / 1500: loss 0.382827\n",
      "iteration 0 / 1500: loss 0.737872\n",
      "iteration 100 / 1500: loss 0.498934\n",
      "iteration 200 / 1500: loss 0.470060\n",
      "iteration 300 / 1500: loss 0.443637\n",
      "iteration 400 / 1500: loss 0.481117\n",
      "iteration 500 / 1500: loss 0.419289\n",
      "iteration 600 / 1500: loss 0.400307\n",
      "iteration 700 / 1500: loss 0.434261\n",
      "iteration 800 / 1500: loss 0.413070\n",
      "iteration 900 / 1500: loss 0.411864\n",
      "iteration 1000 / 1500: loss 0.433155\n",
      "iteration 1100 / 1500: loss 0.431568\n",
      "iteration 1200 / 1500: loss 0.367619\n",
      "iteration 1300 / 1500: loss 0.430902\n",
      "iteration 1400 / 1500: loss 0.455443\n",
      "iteration 0 / 1500: loss 0.576302\n",
      "iteration 100 / 1500: loss 0.000001\n",
      "iteration 200 / 1500: loss 0.000031\n",
      "iteration 300 / 1500: loss 1.092108\n",
      "iteration 400 / 1500: loss 15.368280\n",
      "iteration 500 / 1500: loss 0.039294\n",
      "iteration 600 / 1500: loss 8.382985\n",
      "iteration 700 / 1500: loss 6.229611\n",
      "iteration 800 / 1500: loss 2.663133\n",
      "iteration 900 / 1500: loss 0.000005\n",
      "iteration 1000 / 1500: loss 0.000000\n",
      "iteration 1100 / 1500: loss 0.000000\n",
      "iteration 1200 / 1500: loss 8.712752\n",
      "iteration 1300 / 1500: loss 12.617012\n",
      "iteration 1400 / 1500: loss 0.005462\n",
      "iteration 0 / 1500: loss 0.652397\n",
      "iteration 100 / 1500: loss 0.415389\n",
      "iteration 200 / 1500: loss 0.380787\n",
      "iteration 300 / 1500: loss 0.510795\n",
      "iteration 400 / 1500: loss 0.405184\n",
      "iteration 500 / 1500: loss 0.443969\n",
      "iteration 600 / 1500: loss 0.340248\n",
      "iteration 700 / 1500: loss 0.425000\n",
      "iteration 800 / 1500: loss 0.286957\n",
      "iteration 900 / 1500: loss 0.256647\n",
      "iteration 1000 / 1500: loss 0.324350\n",
      "iteration 1100 / 1500: loss 0.355896\n",
      "iteration 1200 / 1500: loss 0.537445\n",
      "iteration 1300 / 1500: loss 0.452908\n",
      "iteration 1400 / 1500: loss 0.419833\n",
      "iteration 0 / 1500: loss 0.723633\n",
      "iteration 100 / 1500: loss 0.465434\n",
      "iteration 200 / 1500: loss 0.444157\n",
      "iteration 300 / 1500: loss 0.446068\n",
      "iteration 400 / 1500: loss 0.411555\n",
      "iteration 500 / 1500: loss 0.350741\n",
      "iteration 600 / 1500: loss 0.323420\n",
      "iteration 700 / 1500: loss 0.352602\n",
      "iteration 800 / 1500: loss 0.419420\n",
      "iteration 900 / 1500: loss 0.310134\n",
      "iteration 1000 / 1500: loss 0.396874\n",
      "iteration 1100 / 1500: loss 0.314070\n",
      "iteration 1200 / 1500: loss 0.467274\n",
      "iteration 1300 / 1500: loss 0.286303\n",
      "iteration 1400 / 1500: loss 0.416966\n",
      "iteration 0 / 1500: loss 0.745461\n",
      "iteration 100 / 1500: loss 0.421000\n",
      "iteration 200 / 1500: loss 0.412113\n",
      "iteration 300 / 1500: loss 0.428036\n",
      "iteration 400 / 1500: loss 0.371912\n",
      "iteration 500 / 1500: loss 0.390348\n",
      "iteration 600 / 1500: loss 0.438129\n",
      "iteration 700 / 1500: loss 0.393582\n",
      "iteration 800 / 1500: loss 0.472835\n",
      "iteration 900 / 1500: loss 0.376643\n",
      "iteration 1000 / 1500: loss 0.386923\n",
      "iteration 1100 / 1500: loss 0.391424\n",
      "iteration 1200 / 1500: loss 0.388492\n",
      "iteration 1300 / 1500: loss 0.377443\n",
      "iteration 1400 / 1500: loss 0.427461\n",
      "iteration 0 / 1500: loss 0.731541\n",
      "iteration 100 / 1500: loss 0.446267\n",
      "iteration 200 / 1500: loss 0.432166\n",
      "iteration 300 / 1500: loss 0.398333\n",
      "iteration 400 / 1500: loss 0.388630\n",
      "iteration 500 / 1500: loss 0.413827\n",
      "iteration 600 / 1500: loss 0.349663\n",
      "iteration 700 / 1500: loss 0.400976\n",
      "iteration 800 / 1500: loss 0.374319\n",
      "iteration 900 / 1500: loss 0.382422\n",
      "iteration 1000 / 1500: loss 0.340710\n",
      "iteration 1100 / 1500: loss 0.401781\n",
      "iteration 1200 / 1500: loss 0.414545\n",
      "iteration 1300 / 1500: loss 0.359334\n",
      "iteration 1400 / 1500: loss 0.356914\n",
      "iteration 0 / 1500: loss 0.614954\n",
      "iteration 100 / 1500: loss 0.000000\n",
      "iteration 200 / 1500: loss 0.000000\n",
      "iteration 300 / 1500: loss 26.577818\n",
      "iteration 400 / 1500: loss 27.631043\n",
      "iteration 500 / 1500: loss 0.000000\n",
      "iteration 600 / 1500: loss 27.631021\n",
      "iteration 700 / 1500: loss 27.631043\n",
      "iteration 800 / 1500: loss 0.000028\n",
      "iteration 900 / 1500: loss 0.000000\n",
      "iteration 1000 / 1500: loss 0.000000\n",
      "iteration 1100 / 1500: loss 0.000059\n",
      "iteration 1200 / 1500: loss 0.000001\n",
      "iteration 1300 / 1500: loss 11.577994\n",
      "iteration 1400 / 1500: loss 0.000000\n",
      "iteration 0 / 1500: loss 0.750791\n",
      "iteration 100 / 1500: loss 0.581659\n",
      "iteration 200 / 1500: loss 0.193243\n",
      "iteration 300 / 1500: loss 0.249891\n",
      "iteration 400 / 1500: loss 0.398918\n",
      "iteration 500 / 1500: loss 0.519955\n",
      "iteration 600 / 1500: loss 0.384546\n",
      "iteration 700 / 1500: loss 0.492066\n",
      "iteration 800 / 1500: loss 0.223036\n",
      "iteration 900 / 1500: loss 0.503702\n",
      "iteration 1000 / 1500: loss 0.668628\n",
      "iteration 1100 / 1500: loss 0.602854\n",
      "iteration 1200 / 1500: loss 0.665450\n",
      "iteration 1300 / 1500: loss 0.561548\n",
      "iteration 1400 / 1500: loss 0.480414\n",
      "iteration 0 / 1500: loss 0.678957\n",
      "iteration 100 / 1500: loss 0.439152\n",
      "iteration 200 / 1500: loss 0.401564\n",
      "iteration 300 / 1500: loss 0.417451\n",
      "iteration 400 / 1500: loss 0.349593\n",
      "iteration 500 / 1500: loss 0.440478\n",
      "iteration 600 / 1500: loss 0.531670\n",
      "iteration 700 / 1500: loss 0.581090\n",
      "iteration 800 / 1500: loss 0.365919\n",
      "iteration 900 / 1500: loss 0.447771\n",
      "iteration 1000 / 1500: loss 0.308887\n",
      "iteration 1100 / 1500: loss 0.485682\n",
      "iteration 1200 / 1500: loss 0.564348\n",
      "iteration 1300 / 1500: loss 0.386575\n",
      "iteration 1400 / 1500: loss 0.348431\n",
      "iteration 0 / 1500: loss 0.707149\n",
      "iteration 100 / 1500: loss 0.762745\n",
      "iteration 200 / 1500: loss 0.505809\n",
      "iteration 300 / 1500: loss 0.371689\n",
      "iteration 400 / 1500: loss 0.515133\n",
      "iteration 500 / 1500: loss 0.424043\n",
      "iteration 600 / 1500: loss 0.491610\n",
      "iteration 700 / 1500: loss 0.371833\n",
      "iteration 800 / 1500: loss 0.343044\n",
      "iteration 900 / 1500: loss 0.440432\n",
      "iteration 1000 / 1500: loss 0.461905\n",
      "iteration 1100 / 1500: loss 0.703045\n",
      "iteration 1200 / 1500: loss 0.594906\n",
      "iteration 1300 / 1500: loss 0.365644\n",
      "iteration 1400 / 1500: loss 0.443823\n",
      "iteration 0 / 1500: loss 0.655106\n",
      "iteration 100 / 1500: loss 0.397643\n",
      "iteration 200 / 1500: loss 0.375900\n",
      "iteration 300 / 1500: loss 0.484560\n",
      "iteration 400 / 1500: loss 0.406523\n",
      "iteration 500 / 1500: loss 0.392389\n",
      "iteration 600 / 1500: loss 0.367270\n",
      "iteration 700 / 1500: loss 0.401680\n",
      "iteration 800 / 1500: loss 0.442150\n",
      "iteration 900 / 1500: loss 0.376845\n",
      "iteration 1000 / 1500: loss 0.320115\n",
      "iteration 1100 / 1500: loss 0.403853\n",
      "iteration 1200 / 1500: loss 0.385007\n",
      "iteration 1300 / 1500: loss 0.376831\n",
      "iteration 1400 / 1500: loss 0.504396\n",
      "iteration 0 / 1500: loss 0.586966\n",
      "iteration 100 / 1500: loss 0.000000\n",
      "iteration 200 / 1500: loss 0.000000\n",
      "iteration 300 / 1500: loss 27.631043\n",
      "iteration 400 / 1500: loss 0.000000\n",
      "iteration 500 / 1500: loss 0.000000\n",
      "iteration 600 / 1500: loss 12.170217\n",
      "iteration 700 / 1500: loss 0.000000\n",
      "iteration 800 / 1500: loss 0.000000\n",
      "iteration 900 / 1500: loss 0.000000\n",
      "iteration 1000 / 1500: loss 1.830548\n",
      "iteration 1100 / 1500: loss 0.000000\n",
      "iteration 1200 / 1500: loss 27.631021\n",
      "iteration 1300 / 1500: loss 0.000000\n",
      "iteration 1400 / 1500: loss 0.000000\n",
      "iteration 0 / 1500: loss 0.779076\n",
      "iteration 100 / 1500: loss 0.594207\n",
      "iteration 200 / 1500: loss 1.132685\n",
      "iteration 300 / 1500: loss 1.041653\n",
      "iteration 400 / 1500: loss 1.484199\n",
      "iteration 500 / 1500: loss 0.456080\n",
      "iteration 600 / 1500: loss 0.734782\n",
      "iteration 700 / 1500: loss 1.859175\n",
      "iteration 800 / 1500: loss 0.381799\n",
      "iteration 900 / 1500: loss 0.714713\n",
      "iteration 1000 / 1500: loss 0.737296\n",
      "iteration 1100 / 1500: loss 0.760292\n",
      "iteration 1200 / 1500: loss 0.851915\n",
      "iteration 1300 / 1500: loss 2.520359\n",
      "iteration 1400 / 1500: loss 0.587846\n",
      "iteration 0 / 1500: loss 0.751087\n",
      "iteration 100 / 1500: loss 0.718594\n",
      "iteration 200 / 1500: loss 0.555679\n",
      "iteration 300 / 1500: loss 0.435999\n",
      "iteration 400 / 1500: loss 0.626898\n",
      "iteration 500 / 1500: loss 0.611635\n",
      "iteration 600 / 1500: loss 0.497183\n",
      "iteration 700 / 1500: loss 0.921118\n",
      "iteration 800 / 1500: loss 0.414481\n",
      "iteration 900 / 1500: loss 0.559775\n",
      "iteration 1000 / 1500: loss 0.536597\n",
      "iteration 1100 / 1500: loss 0.506513\n",
      "iteration 1200 / 1500: loss 0.621211\n",
      "iteration 1300 / 1500: loss 0.739918\n",
      "iteration 1400 / 1500: loss 0.629426\n",
      "iteration 0 / 1500: loss 0.693232\n",
      "iteration 100 / 1500: loss 0.463538\n",
      "iteration 200 / 1500: loss 0.515053\n",
      "iteration 300 / 1500: loss 0.767937\n",
      "iteration 400 / 1500: loss 0.957213\n",
      "iteration 500 / 1500: loss 0.756446\n",
      "iteration 600 / 1500: loss 0.423768\n",
      "iteration 700 / 1500: loss 1.047054\n",
      "iteration 800 / 1500: loss 0.537128\n",
      "iteration 900 / 1500: loss 0.518602\n",
      "iteration 1000 / 1500: loss 0.851883\n",
      "iteration 1100 / 1500: loss 0.416639\n",
      "iteration 1200 / 1500: loss 0.545197\n",
      "iteration 1300 / 1500: loss 0.544444\n",
      "iteration 1400 / 1500: loss 1.043663\n",
      "iteration 0 / 1500: loss 0.745223\n",
      "iteration 100 / 1500: loss 1.482709\n",
      "iteration 200 / 1500: loss 0.811481\n",
      "iteration 300 / 1500: loss 0.887259\n",
      "iteration 400 / 1500: loss 1.047615\n",
      "iteration 500 / 1500: loss 0.564285\n",
      "iteration 600 / 1500: loss 1.258513\n",
      "iteration 700 / 1500: loss 0.475737\n",
      "iteration 800 / 1500: loss 1.194420\n",
      "iteration 900 / 1500: loss 0.680120\n",
      "iteration 1000 / 1500: loss 0.842993\n",
      "iteration 1100 / 1500: loss 0.565252\n",
      "iteration 1200 / 1500: loss 0.564917\n",
      "iteration 1300 / 1500: loss 0.906964\n",
      "iteration 1400 / 1500: loss 0.393868\n",
      "lr 1.000000e-07 batch_size 1.000000e+00 train accuracy: 79.780000 val accuracy: 79.800000\n",
      "lr 1.000000e-07 batch_size 5.000000e+01 train accuracy: 81.540000 val accuracy: 82.200000\n",
      "lr 1.000000e-07 batch_size 1.000000e+02 train accuracy: 81.400000 val accuracy: 81.900000\n",
      "lr 1.000000e-07 batch_size 2.000000e+02 train accuracy: 81.440000 val accuracy: 81.600000\n",
      "lr 1.000000e-07 batch_size 5.000000e+02 train accuracy: 81.310000 val accuracy: 81.500000\n",
      "lr 1.000000e-06 batch_size 1.000000e+00 train accuracy: 67.080000 val accuracy: 67.000000\n",
      "lr 1.000000e-06 batch_size 5.000000e+01 train accuracy: 82.710000 val accuracy: 83.700000\n",
      "lr 1.000000e-06 batch_size 1.000000e+02 train accuracy: 83.150000 val accuracy: 83.600000\n",
      "lr 1.000000e-06 batch_size 2.000000e+02 train accuracy: 83.160000 val accuracy: 82.800000\n",
      "lr 1.000000e-06 batch_size 5.000000e+02 train accuracy: 83.130000 val accuracy: 82.500000\n",
      "lr 5.000000e-06 batch_size 1.000000e+00 train accuracy: 77.860000 val accuracy: 78.400000\n",
      "lr 5.000000e-06 batch_size 5.000000e+01 train accuracy: 80.580000 val accuracy: 79.100000\n",
      "lr 5.000000e-06 batch_size 1.000000e+02 train accuracy: 79.560000 val accuracy: 79.400000\n",
      "lr 5.000000e-06 batch_size 2.000000e+02 train accuracy: 83.600000 val accuracy: 83.800000\n",
      "lr 5.000000e-06 batch_size 5.000000e+02 train accuracy: 80.140000 val accuracy: 79.300000\n",
      "lr 1.000000e-05 batch_size 1.000000e+00 train accuracy: 76.920000 val accuracy: 77.700000\n",
      "lr 1.000000e-05 batch_size 5.000000e+01 train accuracy: 73.890000 val accuracy: 71.700000\n",
      "lr 1.000000e-05 batch_size 1.000000e+02 train accuracy: 78.470000 val accuracy: 78.600000\n",
      "lr 1.000000e-05 batch_size 2.000000e+02 train accuracy: 81.430000 val accuracy: 81.200000\n",
      "lr 1.000000e-05 batch_size 5.000000e+02 train accuracy: 78.010000 val accuracy: 76.200000\n",
      "best validation accuracy achieved during cross-validation: 83.800000\n",
      "Binary logistic regression on raw pixels final test set accuracy: 81.400000\n"
     ]
    }
   ],
   "source": [
    "# You are encouraged to experiment with additional values\n",
    "learning_rates = [1e-7, 1e-6, 5e-6, 1e-5]\n",
    "batch_sizes = [1, 50, 100, 200, 500]\n",
    "\n",
    "results = {}\n",
    "best_val = -1   # The highest validation accuracy that we have seen so far.\n",
    "best_logistic = None # The LogisticRegression object that achieved the highest validation rate.\n",
    "\n",
    "################################################################################\n",
    "#                            START OF YOUR CODE                                #\n",
    "################################################################################\n",
    "\n",
    "# Try each combination of learning rate and batch size\n",
    "for lr in learning_rates:\n",
    "   for bs in batch_sizes:\n",
    "       # Create and train a new model\n",
    "       model = LogisticRegression(X_train, y_train)\n",
    "       \n",
    "       # Train model with current hyperparameters\n",
    "       model.train(X_train, y_train, **{'learning_rate': lr, 'batch_size': bs, 'num_iters': 1500, 'verbose': True})\n",
    "\n",
    "       \n",
    "       # Get training and validation accuracy\n",
    "       train_acc = model.calc_accuracy(X_train, y_train)\n",
    "       val_acc = model.calc_accuracy(X_val, y_val)\n",
    "       \n",
    "       # Store results\n",
    "       results[(lr, bs)] = (train_acc, val_acc)\n",
    "       \n",
    "       # Update best model if validation accuracy improves\n",
    "       if val_acc > best_val:\n",
    "           best_val = val_acc\n",
    "           best_logistic = model\n",
    "\n",
    "################################################################################\n",
    "#                              END OF YOUR CODE                                #\n",
    "################################################################################\n",
    "    \n",
    "# Print out results.\n",
    "for lr, batch_size in sorted(results):\n",
    "    train_accuracy, val_accuracy = results[(lr, batch_size)]\n",
    "    print ('lr %e batch_size %e train accuracy: %f val accuracy: %f' % (\n",
    "                lr, batch_size, train_accuracy, val_accuracy))\n",
    "    \n",
    "print ('best validation accuracy achieved during cross-validation: %f' % best_val)\n",
    "\n",
    "test_accuracy = best_logistic.calc_accuracy(X_test, y_test)\n",
    "print ('Binary logistic regression on raw pixels final test set accuracy: %f' % test_accuracy)"
   ]
  },
  {
   "cell_type": "markdown",
   "metadata": {
    "id": "rdRdvKwR7MdF"
   },
   "source": [
    "# The End!"
   ]
  }
 ],
 "metadata": {
  "colab": {
   "collapsed_sections": [],
   "name": "HW1.ipynb",
   "provenance": []
  },
  "kernelspec": {
   "display_name": "pytorch_env",
   "language": "python",
   "name": "python3"
  },
  "language_info": {
   "codemirror_mode": {
    "name": "ipython",
    "version": 3
   },
   "file_extension": ".py",
   "mimetype": "text/x-python",
   "name": "python",
   "nbconvert_exporter": "python",
   "pygments_lexer": "ipython3",
   "version": "3.12.2"
  },
  "toc": {
   "base_numbering": 1,
   "nav_menu": {},
   "number_sections": true,
   "sideBar": true,
   "skip_h1_title": false,
   "title_cell": "Table of Contents",
   "title_sidebar": "Contents",
   "toc_cell": false,
   "toc_position": {},
   "toc_section_display": true,
   "toc_window_display": false
  },
  "varInspector": {
   "cols": {
    "lenName": 16,
    "lenType": 16,
    "lenVar": 40
   },
   "kernels_config": {
    "python": {
     "delete_cmd_postfix": "",
     "delete_cmd_prefix": "del ",
     "library": "var_list.py",
     "varRefreshCmd": "print(var_dic_list())"
    },
    "r": {
     "delete_cmd_postfix": ") ",
     "delete_cmd_prefix": "rm(",
     "library": "var_list.r",
     "varRefreshCmd": "cat(var_dic_list()) "
    }
   },
   "types_to_exclude": [
    "module",
    "function",
    "builtin_function_or_method",
    "instance",
    "_Feature"
   ],
   "window_display": false
  }
 },
 "nbformat": 4,
 "nbformat_minor": 1
}
